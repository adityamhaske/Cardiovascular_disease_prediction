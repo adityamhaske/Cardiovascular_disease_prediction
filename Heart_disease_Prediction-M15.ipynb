{
 "cells": [
  {
   "cell_type": "markdown",
   "metadata": {
    "colab_type": "text",
    "id": "A7T6Ct9Xqhf0"
   },
   "source": [
    "<a class=\"anchor\" id=\"0\"></a>\n",
    "\n",
    "# FE, tuning and comparison of the 15 popular models for Cardiovascular Disease prediction"
   ]
  },
  {
   "cell_type": "markdown",
   "metadata": {
    "colab_type": "text",
    "id": "k1MBT4cdqhf2"
   },
   "source": [
    "Build of the 15 most popular models, the most complex models from them are tuned (optimized) Comparison of the optimal for each type models."
   ]
  },
  {
   "cell_type": "markdown",
   "metadata": {
    "colab_type": "text",
    "id": "r0H2WxpUqhf4"
   },
   "source": [
    "<a class=\"anchor\" id=\"0.1\"></a>\n",
    "\n",
    "## Table of Contents\n",
    "\n",
    "1. [Import libraries](#1)\n",
    "1. [Download datasets](#2)\n",
    "1. [Preparing to modeling](#4)\n",
    "1. [Tuning models and test for all features](#5)\n",
    "    -  [Logistic Regression](#5.1)\n",
    "    -  [Support Vector Machines](#5.2)\n",
    "    -  [Linear SVC](#5.3)\n",
    "    -  [k-Nearest Neighbors algorithm with GridSearchCV](#5.4)\n",
    "    -  [Naive Bayes](#5.5)\n",
    "    -  [Perceptron](#5.6)\n",
    "    -  [Decision Tree Classifier](#5.7)\n",
    "    -  [Random Forests with GridSearchCV](#5.8)\n",
    "    -  [Stochastic Gradient Descent](#5.8)\n",
    "    -  [XGB Classifier with HyperOpt](#5.10)\n",
    "    -  [LGBM Classifier with HyperOpt](#5.11)\n",
    "    -  [GradientBoostingClassifier with HyperOpt](#5.12)\n",
    "    -  [RidgeClassifier](#5.13)\n",
    "    -  [BaggingClassifier](#5.14)\n",
    "    -  [ExtraTreesClassifier with HyperOpt](#5.15)    \n",
    "1. [Models evaluation](#6)"
   ]
  },
  {
   "cell_type": "markdown",
   "metadata": {
    "colab_type": "text",
    "id": "XLQuKUBzqhf5"
   },
   "source": [
    "## 1. Import libraries <a class=\"anchor\" id=\"1\"></a>"
   ]
  },
  {
   "cell_type": "code",
   "execution_count": 38,
   "metadata": {
    "_cell_guid": "b1076dfc-b9ad-4769-8c92-a6c4dae69d19",
    "_uuid": "8f2839f25d086af736a60e9eeb907d3b93b6e0e5",
    "colab": {},
    "colab_type": "code",
    "id": "4QmoBHUIqhf6"
   },
   "outputs": [],
   "source": [
    "import numpy as np\n",
    "import pandas as pd\n",
    "import matplotlib.pyplot as plt\n",
    "import itertools\n",
    "%matplotlib inline\n",
    "\n",
    "# preprocessing\n",
    "from sklearn.preprocessing import LabelEncoder\n",
    "from sklearn.model_selection import train_test_split, cross_val_score, GridSearchCV\n",
    "from sklearn.metrics import classification_report,confusion_matrix, accuracy_score, jaccard_similarity_score\n",
    "import pandas_profiling as pp\n",
    "\n",
    "# models\n",
    "from sklearn.linear_model import LogisticRegression, Perceptron, RidgeClassifier, SGDClassifier\n",
    "from sklearn import svm\n",
    "from sklearn.svm import SVC, LinearSVC\n",
    "from sklearn.ensemble import RandomForestClassifier, GradientBoostingClassifier, ExtraTreesClassifier \n",
    "from sklearn.ensemble import BaggingClassifier, AdaBoostClassifier, VotingClassifier \n",
    "from sklearn.neighbors import KNeighborsClassifier\n",
    "from sklearn.naive_bayes import GaussianNB\n",
    "from sklearn.tree import DecisionTreeClassifier\n",
    "from sklearn import metrics\n",
    "import xgboost as xgb\n",
    "from xgboost import XGBClassifier\n",
    "import lightgbm as lgb\n",
    "from lightgbm import LGBMClassifier\n",
    "\n",
    "# model tuning\n",
    "from hyperopt import STATUS_OK, Trials, fmin, hp, tpe, space_eval\n",
    "\n",
    "# import warnings filter\n",
    "from warnings import simplefilter\n",
    "# ignore all future warnings\n",
    "simplefilter(action='ignore', category=FutureWarning)"
   ]
  },
  {
   "cell_type": "markdown",
   "metadata": {
    "colab_type": "text",
    "id": "-xfqGwkIqhgB"
   },
   "source": [
    "## 2. Download datasets <a class=\"anchor\" id=\"2\"></a>"
   ]
  },
  {
   "cell_type": "code",
   "execution_count": 39,
   "metadata": {
    "colab": {},
    "colab_type": "code",
    "id": "Tx45vPcbrZ47"
   },
   "outputs": [],
   "source": [
    "#from google.colab import files\n",
    "#uploaded = files.upload()"
   ]
  },
  {
   "cell_type": "code",
   "execution_count": 40,
   "metadata": {
    "colab": {},
    "colab_type": "code",
    "id": "MOiOz1qVqhgC"
   },
   "outputs": [],
   "source": [
    "data = pd.read_csv(\"cardio_train.csv\", sep=\";\")"
   ]
  },
  {
   "cell_type": "code",
   "execution_count": 41,
   "metadata": {
    "colab": {
     "base_uri": "https://localhost:8080/",
     "height": 33
    },
    "colab_type": "code",
    "id": "zqjITNStqhgI",
    "outputId": "3fbf347c-29ab-4429-ab34-15ed60983d3f"
   },
   "outputs": [
    {
     "data": {
      "text/plain": [
       "68983"
      ]
     },
     "execution_count": 41,
     "metadata": {
      "tags": []
     },
     "output_type": "execute_result"
    }
   ],
   "source": [
    "data.drop(\"id\",axis=1,inplace=True)\n",
    "data.drop_duplicates(inplace=True)\n",
    "data[\"bmi\"] = data[\"weight\"] / (data[\"height\"]/100)**2\n",
    "out_filter = ((data[\"ap_hi\"]>250) | (data[\"ap_lo\"]>200))\n",
    "data = data[~out_filter]\n",
    "len(data)"
   ]
  },
  {
   "cell_type": "code",
   "execution_count": 42,
   "metadata": {
    "colab": {},
    "colab_type": "code",
    "id": "BSPes0ZYqhgQ"
   },
   "outputs": [],
   "source": [
    "out_filter2 = ((data[\"ap_hi\"] < 0) | (data[\"ap_lo\"] < 0))\n",
    "data = data[~out_filter2]"
   ]
  },
  {
   "cell_type": "code",
   "execution_count": 43,
   "metadata": {
    "colab": {
     "base_uri": "https://localhost:8080/",
     "height": 137
    },
    "colab_type": "code",
    "id": "j4C3WcYnqhgX",
    "outputId": "a787f781-5088-4268-a3e5-7aad5e34abe9"
   },
   "outputs": [
    {
     "data": {
      "text/html": [
       "<div>\n",
       "<style scoped>\n",
       "    .dataframe tbody tr th:only-of-type {\n",
       "        vertical-align: middle;\n",
       "    }\n",
       "\n",
       "    .dataframe tbody tr th {\n",
       "        vertical-align: top;\n",
       "    }\n",
       "\n",
       "    .dataframe thead th {\n",
       "        text-align: right;\n",
       "    }\n",
       "</style>\n",
       "<table border=\"1\" class=\"dataframe\">\n",
       "  <thead>\n",
       "    <tr style=\"text-align: right;\">\n",
       "      <th></th>\n",
       "      <th>age</th>\n",
       "      <th>gender</th>\n",
       "      <th>height</th>\n",
       "      <th>weight</th>\n",
       "      <th>ap_hi</th>\n",
       "      <th>ap_lo</th>\n",
       "      <th>cholesterol</th>\n",
       "      <th>gluc</th>\n",
       "      <th>smoke</th>\n",
       "      <th>alco</th>\n",
       "      <th>active</th>\n",
       "      <th>cardio</th>\n",
       "      <th>bmi</th>\n",
       "    </tr>\n",
       "  </thead>\n",
       "  <tbody>\n",
       "    <tr>\n",
       "      <th>0</th>\n",
       "      <td>18393</td>\n",
       "      <td>2</td>\n",
       "      <td>168</td>\n",
       "      <td>62.0</td>\n",
       "      <td>110</td>\n",
       "      <td>80</td>\n",
       "      <td>1</td>\n",
       "      <td>1</td>\n",
       "      <td>0</td>\n",
       "      <td>0</td>\n",
       "      <td>1</td>\n",
       "      <td>0</td>\n",
       "      <td>21.967120</td>\n",
       "    </tr>\n",
       "    <tr>\n",
       "      <th>1</th>\n",
       "      <td>20228</td>\n",
       "      <td>1</td>\n",
       "      <td>156</td>\n",
       "      <td>85.0</td>\n",
       "      <td>140</td>\n",
       "      <td>90</td>\n",
       "      <td>3</td>\n",
       "      <td>1</td>\n",
       "      <td>0</td>\n",
       "      <td>0</td>\n",
       "      <td>1</td>\n",
       "      <td>1</td>\n",
       "      <td>34.927679</td>\n",
       "    </tr>\n",
       "    <tr>\n",
       "      <th>2</th>\n",
       "      <td>18857</td>\n",
       "      <td>1</td>\n",
       "      <td>165</td>\n",
       "      <td>64.0</td>\n",
       "      <td>130</td>\n",
       "      <td>70</td>\n",
       "      <td>3</td>\n",
       "      <td>1</td>\n",
       "      <td>0</td>\n",
       "      <td>0</td>\n",
       "      <td>0</td>\n",
       "      <td>1</td>\n",
       "      <td>23.507805</td>\n",
       "    </tr>\n",
       "  </tbody>\n",
       "</table>\n",
       "</div>"
      ],
      "text/plain": [
       "     age  gender  height  weight  ap_hi  ...  smoke  alco  active  cardio        bmi\n",
       "0  18393       2     168    62.0    110  ...      0     0       1       0  21.967120\n",
       "1  20228       1     156    85.0    140  ...      0     0       1       1  34.927679\n",
       "2  18857       1     165    64.0    130  ...      0     0       0       1  23.507805\n",
       "\n",
       "[3 rows x 13 columns]"
      ]
     },
     "execution_count": 43,
     "metadata": {
      "tags": []
     },
     "output_type": "execute_result"
    }
   ],
   "source": [
    "data.head(3)"
   ]
  },
  {
   "cell_type": "code",
   "execution_count": 44,
   "metadata": {
    "colab": {
     "base_uri": "https://localhost:8080/",
     "height": 351
    },
    "colab_type": "code",
    "id": "CZjO2cpuqhga",
    "outputId": "082ea2f1-e32a-4954-e9d6-e75575a4b4ad"
   },
   "outputs": [
    {
     "name": "stdout",
     "output_type": "stream",
     "text": [
      "<class 'pandas.core.frame.DataFrame'>\n",
      "Int64Index: 68975 entries, 0 to 69999\n",
      "Data columns (total 13 columns):\n",
      " #   Column       Non-Null Count  Dtype  \n",
      "---  ------       --------------  -----  \n",
      " 0   age          68975 non-null  int64  \n",
      " 1   gender       68975 non-null  int64  \n",
      " 2   height       68975 non-null  int64  \n",
      " 3   weight       68975 non-null  float64\n",
      " 4   ap_hi        68975 non-null  int64  \n",
      " 5   ap_lo        68975 non-null  int64  \n",
      " 6   cholesterol  68975 non-null  int64  \n",
      " 7   gluc         68975 non-null  int64  \n",
      " 8   smoke        68975 non-null  int64  \n",
      " 9   alco         68975 non-null  int64  \n",
      " 10  active       68975 non-null  int64  \n",
      " 11  cardio       68975 non-null  int64  \n",
      " 12  bmi          68975 non-null  float64\n",
      "dtypes: float64(2), int64(11)\n",
      "memory usage: 7.4 MB\n"
     ]
    }
   ],
   "source": [
    "data.info()"
   ]
  },
  {
   "cell_type": "markdown",
   "metadata": {
    "colab_type": "text",
    "id": "ohHWeo_Aqhgp"
   },
   "source": [
    "## 3. Preparing to modeling <a class=\"anchor\" id=\"4\"></a>\n"
   ]
  },
  {
   "cell_type": "markdown",
   "metadata": {
    "colab_type": "text",
    "id": "EBUbO6fSqhgv"
   },
   "source": [
    "Spliting  data on 30% in the test dataset, the remaining 70% - in the training dataset"
   ]
  },
  {
   "cell_type": "code",
   "execution_count": 45,
   "metadata": {
    "colab": {},
    "colab_type": "code",
    "id": "LRK843gex9Xr"
   },
   "outputs": [],
   "source": [
    "X = data[['age', 'gender', 'height', 'weight', 'ap_hi', 'ap_lo', 'cholesterol', 'gluc', 'smoke', 'alco', 'active', 'bmi']].values\n",
    "y = data['cardio']\n",
    "X_train, X_test, y_train, y_test = train_test_split(X, y, test_size=0.2, random_state=0)"
   ]
  },
  {
   "cell_type": "markdown",
   "metadata": {
    "colab_type": "text",
    "id": "QIsQD0LHqhhY"
   },
   "source": [
    "## 4. Tuning models and test for all features <a class=\"anchor\" id=\"5\"></a>"
   ]
  },
  {
   "cell_type": "markdown",
   "metadata": {
    "colab_type": "text",
    "id": "NfCGIrDlqhhY"
   },
   "source": [
    "There are 60+ predictive modelling algorithms to choose from. We must understand the type of problem and solution requirement to narrow down to a select few models which we can evaluate. Our problem is a classification and regression problem. We want to identify relationship between output (Survived or not) with other variables or features (Gender, Age, Port...). We are also perfoming a category of machine learning which is called supervised learning as we are training our model with a given dataset. With these two criteria - Supervised Learning plus Classification and Regression, we can narrow down our choice of models to a few. These include:\n",
    "\n",
    "- Logistic Regression\n",
    "- Support Vector Machines and Linear SVC\n",
    "- KNN or k-Nearest Neighbors\n",
    "- Naive Bayes Classifier or Gaussian Naive Bayes\n",
    "- Decision Tree Classifier, Random Forest\n",
    "- Perceptron"
   ]
  },
  {
   "cell_type": "markdown",
   "metadata": {
    "colab_type": "text",
    "id": "bIk-x11Eqhhb"
   },
   "source": [
    "### 4.1 Logistic Regression <a class=\"anchor\" id=\"5.1\"></a>\n"
   ]
  },
  {
   "cell_type": "markdown",
   "metadata": {
    "colab_type": "text",
    "id": "t9wKPTorqhhc"
   },
   "source": [
    "**Logistic Regression** is a useful model to run early in the workflow. Logistic regression measures the relationship between the categorical dependent variable (feature) and one or more independent variables (features) by estimating probabilities using a logistic function, which is the cumulative logistic distribution. Reference [Wikipedia](https://en.wikipedia.org/wiki/Logistic_regression).\n",
    "\n",
    "Note the confidence score generated by the model based on our training dataset."
   ]
  },
  {
   "cell_type": "code",
   "execution_count": 46,
   "metadata": {
    "colab": {
     "base_uri": "https://localhost:8080/",
     "height": 100
    },
    "colab_type": "code",
    "id": "1AnZSQrYyJQs",
    "outputId": "3c060c08-6293-41cb-9797-5be0ed44ef6a"
   },
   "outputs": [
    {
     "data": {
      "text/plain": [
       "LogisticRegression(C=1.0, class_weight=None, dual=False, fit_intercept=True,\n",
       "                   intercept_scaling=1, l1_ratio=None, max_iter=100,\n",
       "                   multi_class='auto', n_jobs=None, penalty='l2',\n",
       "                   random_state=None, solver='lbfgs', tol=0.0001, verbose=0,\n",
       "                   warm_start=False)"
      ]
     },
     "execution_count": 46,
     "metadata": {
      "tags": []
     },
     "output_type": "execute_result"
    }
   ],
   "source": [
    "logmodel = LogisticRegression()\n",
    "logmodel.fit(X_train,y_train)"
   ]
  },
  {
   "cell_type": "code",
   "execution_count": 47,
   "metadata": {
    "colab": {},
    "colab_type": "code",
    "id": "Hrr2plJOwXO4"
   },
   "outputs": [],
   "source": [
    "pred_test_log = logmodel.predict(X_test)\n",
    "pred_log = logmodel.predict(X_train)"
   ]
  },
  {
   "cell_type": "code",
   "execution_count": 48,
   "metadata": {
    "colab": {
     "base_uri": "https://localhost:8080/",
     "height": 167
    },
    "colab_type": "code",
    "id": "JjFAlSvPwbNn",
    "outputId": "d1e1e3ea-b90b-40af-9878-0b77aaf649c2"
   },
   "outputs": [
    {
     "name": "stdout",
     "output_type": "stream",
     "text": [
      "              precision    recall  f1-score   support\n",
      "\n",
      "           0       0.70      0.77      0.73      6877\n",
      "           1       0.74      0.67      0.71      6918\n",
      "\n",
      "    accuracy                           0.72     13795\n",
      "   macro avg       0.72      0.72      0.72     13795\n",
      "weighted avg       0.72      0.72      0.72     13795\n",
      "\n"
     ]
    }
   ],
   "source": [
    "print(classification_report(y_test,pred_test_log))"
   ]
  },
  {
   "cell_type": "code",
   "execution_count": 110,
   "metadata": {
    "colab": {
     "base_uri": "https://localhost:8080/",
     "height": 50
    },
    "colab_type": "code",
    "id": "CUNUXVqxweUo",
    "outputId": "a50a9984-cec0-42f4-88aa-e1801aab2c12"
   },
   "outputs": [
    {
     "name": "stdout",
     "output_type": "stream",
     "text": [
      "Accuracy train :  71.65458499456325\n",
      "Accuracy test :  71.93910837259877\n"
     ]
    }
   ],
   "source": [
    "acc_log = metrics.accuracy_score(y_train,pred_log ) * 100\n",
    "acc_test_log = metrics.accuracy_score(y_test, pred_test_log) * 100\n",
    "print(\"Accuracy train : \", acc_log)\n",
    "print(\"Accuracy test : \", acc_test_log)"
   ]
  },
  {
   "cell_type": "markdown",
   "metadata": {
    "colab_type": "text",
    "id": "P-rRxZ9Nqhht"
   },
   "source": [
    "### 4.2 Support Vector Machines <a class=\"anchor\" id=\"5.2\"></a>\n"
   ]
  },
  {
   "cell_type": "markdown",
   "metadata": {
    "colab_type": "text",
    "id": "1zz-QA33qhhu"
   },
   "source": [
    "**Support Vector Machines** are supervised learning models with associated learning algorithms that analyze data used for classification and regression analysis. Given a set of training samples, each marked as belonging to one or the other of two categories, an SVM training algorithm builds a model that assigns new test samples to one category or the other, making it a non-probabilistic binary linear classifier. Reference [Wikipedia](https://en.wikipedia.org/wiki/Support_vector_machine)."
   ]
  },
  {
   "cell_type": "code",
   "execution_count": 50,
   "metadata": {
    "colab": {
     "base_uri": "https://localhost:8080/",
     "height": 84
    },
    "colab_type": "code",
    "id": "Oby5zR-vyX_y",
    "outputId": "e2dc9420-4d24-4f4e-fcc4-c828e949b0fa"
   },
   "outputs": [
    {
     "data": {
      "text/plain": [
       "SVC(C=1.0, break_ties=False, cache_size=200, class_weight=None, coef0=0.0,\n",
       "    decision_function_shape='ovr', degree=3, gamma='scale', kernel='poly',\n",
       "    max_iter=-1, probability=False, random_state=None, shrinking=True,\n",
       "    tol=0.001, verbose=False)"
      ]
     },
     "execution_count": 50,
     "metadata": {
      "tags": []
     },
     "output_type": "execute_result"
    }
   ],
   "source": [
    "clf = svm.SVC(kernel='poly')\n",
    "clf.fit(X_train, y_train) "
   ]
  },
  {
   "cell_type": "code",
   "execution_count": 51,
   "metadata": {
    "colab": {
     "base_uri": "https://localhost:8080/",
     "height": 33
    },
    "colab_type": "code",
    "id": "X4vI8N16yXji",
    "outputId": "5d9529f9-5601-4568-dc2b-56daef3e3291"
   },
   "outputs": [
    {
     "data": {
      "text/plain": [
       "array([1, 1, 0, 0, 0])"
      ]
     },
     "execution_count": 51,
     "metadata": {
      "tags": []
     },
     "output_type": "execute_result"
    }
   ],
   "source": [
    "pred_svc = clf.predict(X_train)\n",
    "pred_test_svc = clf.predict(X_test)\n",
    "pred_test_svc [0:5]"
   ]
  },
  {
   "cell_type": "code",
   "execution_count": 52,
   "metadata": {
    "colab": {},
    "colab_type": "code",
    "id": "0Bcm9sKm1E7r"
   },
   "outputs": [],
   "source": [
    "def plot_confusion_matrix(cm, classes,\n",
    "                          normalize=False,\n",
    "                          title='Confusion matrix',\n",
    "                          cmap=plt.cm.Blues):\n",
    "    \"\"\"\n",
    "    This function prints and plots the confusion matrix.\n",
    "    Normalization can be applied by setting `normalize=True`.\n",
    "    \"\"\"\n",
    "    if normalize:\n",
    "        cm = cm.astype('float') / cm.sum(axis=1)[:, np.newaxis]\n",
    "        print(\"Normalized confusion matrix\")\n",
    "    else:\n",
    "        print('Confusion matrix, without normalization')\n",
    "\n",
    "    print(cm)\n",
    "\n",
    "    plt.imshow(cm, interpolation='nearest', cmap=cmap)\n",
    "    plt.title(title)\n",
    "    plt.colorbar()\n",
    "    tick_marks = np.arange(len(classes))\n",
    "    plt.xticks(tick_marks, classes, rotation=45)\n",
    "    plt.yticks(tick_marks, classes)\n",
    "\n",
    "    fmt = '.2f' if normalize else 'd'\n",
    "    thresh = cm.max() / 2.\n",
    "    for i, j in itertools.product(range(cm.shape[0]), range(cm.shape[1])):\n",
    "        plt.text(j, i, format(cm[i, j], fmt),\n",
    "                 horizontalalignment=\"center\",\n",
    "                 color=\"white\" if cm[i, j] > thresh else \"black\")\n",
    "\n",
    "    plt.tight_layout()\n",
    "    plt.ylabel('True label')\n",
    "    plt.xlabel('Predicted label')"
   ]
  },
  {
   "cell_type": "code",
   "execution_count": 54,
   "metadata": {
    "colab": {
     "base_uri": "https://localhost:8080/",
     "height": 512
    },
    "colab_type": "code",
    "id": "gphVTYu21KrK",
    "outputId": "5dca0251-97f0-41bb-fc8e-3b7d4ac90827"
   },
   "outputs": [
    {
     "name": "stdout",
     "output_type": "stream",
     "text": [
      "              precision    recall  f1-score   support\n",
      "\n",
      "           0       0.60      0.64      0.62      6877\n",
      "           1       0.62      0.58      0.60      6918\n",
      "\n",
      "    accuracy                           0.61     13795\n",
      "   macro avg       0.61      0.61      0.61     13795\n",
      "weighted avg       0.61      0.61      0.61     13795\n",
      "\n",
      "Confusion matrix, without normalization\n",
      "[[4394 2483]\n",
      " [2935 3983]]\n"
     ]
    },
    {
     "data": {
      "image/png": "[encoded data removed]",
      "text/plain": [
       "<Figure size 432x288 with 2 Axes>"
      ]
     },
     "metadata": {
      "needs_background": "light",
      "tags": []
     },
     "output_type": "display_data"
    }
   ],
   "source": [
    "# Compute confusion matrix\n",
    "cnf_matrix = confusion_matrix(y_test, pred_test_svc, labels=[0,1])\n",
    "np.set_printoptions(precision=2)\n",
    "\n",
    "print (classification_report(y_test, pred_test_svc))\n",
    "\n",
    "# Plot non-normalized confusion matrix\n",
    "plt.figure()\n",
    "plot_confusion_matrix(cnf_matrix, classes=['Cardio(0)','Cardio(1)'],normalize= False,  title='Confusion matrix')"
   ]
  },
  {
   "cell_type": "code",
   "execution_count": 109,
   "metadata": {
    "colab": {
     "base_uri": "https://localhost:8080/",
     "height": 50
    },
    "colab_type": "code",
    "id": "KM4edIew1NlW",
    "outputId": "f831b91e-0b3e-4ac7-bdf2-0b21ef735c24"
   },
   "outputs": [
    {
     "name": "stdout",
     "output_type": "stream",
     "text": [
      "Accuracy train :  61.495106922798115\n",
      "Accuracy test :  60.724900326205145\n"
     ]
    }
   ],
   "source": [
    "acc_svc = accuracy_score(y_train,pred_svc) * 100\n",
    "acc_test_svc = accuracy_score(y_test, pred_test_svc) * 100\n",
    "print(\"Accuracy train : \", acc_svc)\n",
    "print(\"Accuracy test : \", acc_test_svc)"
   ]
  },
  {
   "cell_type": "markdown",
   "metadata": {
    "colab_type": "text",
    "id": "0gHLUZlpqhh0"
   },
   "source": [
    "### 4.3 Linear SVC <a class=\"anchor\" id=\"5.3\"></a>"
   ]
  },
  {
   "cell_type": "markdown",
   "metadata": {
    "colab_type": "text",
    "id": "-c1dJy9bqhh1"
   },
   "source": [
    "**SVC** is a similar to SVM method. Its also builds on kernel functions but is appropriate for unsupervised learning. Reference [Wikipedia](https://en.wikipedia.org/wiki/Support-vector_machine#Support-vector_clustering_(SVC)."
   ]
  },
  {
   "cell_type": "code",
   "execution_count": 56,
   "metadata": {
    "colab": {
     "base_uri": "https://localhost:8080/",
     "height": 84
    },
    "colab_type": "code",
    "id": "j2G8Zwf3ydR8",
    "outputId": "b15fcdda-a7cf-4117-98d4-ce8d1bd2cade"
   },
   "outputs": [
    {
     "data": {
      "text/plain": [
       "SVC(C=1.0, break_ties=False, cache_size=200, class_weight=None, coef0=0.0,\n",
       "    decision_function_shape='ovr', degree=3, gamma='scale', kernel='linear',\n",
       "    max_iter=-1, probability=False, random_state=None, shrinking=True,\n",
       "    tol=0.001, verbose=False)"
      ]
     },
     "execution_count": 56,
     "metadata": {
      "tags": []
     },
     "output_type": "execute_result"
    }
   ],
   "source": [
    "clf = svm.SVC(kernel='linear', C = 1.0)\n",
    "clf.fit(X_train, y_train) "
   ]
  },
  {
   "cell_type": "code",
   "execution_count": 57,
   "metadata": {
    "colab": {
     "base_uri": "https://localhost:8080/",
     "height": 33
    },
    "colab_type": "code",
    "id": "vcPVTDH8yc-q",
    "outputId": "dd512a2f-dd6f-4e15-d07b-14220abc885e"
   },
   "outputs": [
    {
     "data": {
      "text/plain": [
       "array([0, 0, 0, 0, 0])"
      ]
     },
     "execution_count": 57,
     "metadata": {
      "tags": []
     },
     "output_type": "execute_result"
    }
   ],
   "source": [
    "pred_linear_svc = clf.predict(X_train)\n",
    "pred_test_linear_svc = clf.predict(X_test)\n",
    "pred_test_linear_svc [0:5]"
   ]
  },
  {
   "cell_type": "code",
   "execution_count": 108,
   "metadata": {
    "colab": {
     "base_uri": "https://localhost:8080/",
     "height": 50
    },
    "colab_type": "code",
    "id": "5IbGqtZ4INTp",
    "outputId": "01ee1b06-e859-4979-8dc8-4279547ce5a9"
   },
   "outputs": [
    {
     "name": "stdout",
     "output_type": "stream",
     "text": [
      "Accuracy train :  72.37404856832185\n",
      "Accuracy test :  72.72924972816239\n"
     ]
    }
   ],
   "source": [
    "acc_linear_svc = accuracy_score(y_train,pred_linear_svc) * 100\n",
    "acc_test_linear_svc = accuracy_score(y_test, pred_test_linear_svc) * 100\n",
    "print(\"Accuracy train : \", acc_linear_svc)\n",
    "print(\"Accuracy test : \", acc_test_linear_svc)"
   ]
  },
  {
   "cell_type": "markdown",
   "metadata": {
    "colab_type": "text",
    "id": "lBM76u-kqhh-"
   },
   "source": [
    "### 4.4 k-Nearest Neighbors algorithm <a class=\"anchor\" id=\"5.4\"></a>"
   ]
  },
  {
   "cell_type": "markdown",
   "metadata": {
    "colab_type": "text",
    "id": "PyTOL9iCqhh_"
   },
   "source": [
    "In pattern recognition, the **k-Nearest Neighbors algorithm** (or k-NN for short) is a non-parametric method used for classification and regression. A sample is classified by a majority vote of its neighbors, with the sample being assigned to the class most common among its k nearest neighbors (k is a positive integer, typically small). Reference [Wikipedia](https://en.wikipedia.org/wiki/K-nearest_neighbors_algorithm)."
   ]
  },
  {
   "cell_type": "code",
   "execution_count": 59,
   "metadata": {
    "colab": {
     "base_uri": "https://localhost:8080/",
     "height": 33
    },
    "colab_type": "code",
    "id": "0fqfnAfmyf7R",
    "outputId": "ad8cd984-faf6-41a8-c3dd-cacb83f473c3"
   },
   "outputs": [
    {
     "data": {
      "text/plain": [
       "array([0, 0, 0, 0, 0])"
      ]
     },
     "execution_count": 59,
     "metadata": {
      "tags": []
     },
     "output_type": "execute_result"
    }
   ],
   "source": [
    "k = 45\n",
    "#Training and Predicting  \n",
    "neigh = KNeighborsClassifier(n_neighbors = k).fit(X_train,y_train)\n",
    "pred_knn = neigh.predict(X_train)\n",
    "pred_test_knn = neigh.predict(X_test)\n",
    "pred_test_knn[0:5]"
   ]
  },
  {
   "cell_type": "code",
   "execution_count": 60,
   "metadata": {
    "colab": {
     "base_uri": "https://localhost:8080/",
     "height": 100
    },
    "colab_type": "code",
    "id": "gZv6AJeByfs0",
    "outputId": "682ab3fc-b7b5-4601-c74a-c4718e58fdcd"
   },
   "outputs": [
    {
     "data": {
      "text/plain": [
       "array([0.63, 0.63, 0.67, 0.67, 0.68, 0.69, 0.69, 0.69, 0.7 , 0.7 , 0.7 ,\n",
       "       0.7 , 0.7 , 0.71, 0.71, 0.71, 0.71, 0.71, 0.71, 0.71, 0.71, 0.71,\n",
       "       0.71, 0.71, 0.71, 0.71, 0.71, 0.71, 0.71, 0.71, 0.71, 0.71, 0.71,\n",
       "       0.71, 0.71, 0.71, 0.71, 0.71, 0.71, 0.71, 0.71, 0.71, 0.71, 0.71,\n",
       "       0.71, 0.71, 0.71, 0.71, 0.71])"
      ]
     },
     "execution_count": 60,
     "metadata": {
      "tags": []
     },
     "output_type": "execute_result"
    }
   ],
   "source": [
    "Ks = 50\n",
    "mean_acc = np.zeros((Ks-1))\n",
    "std_acc = np.zeros((Ks-1))\n",
    "ConfustionMx = [];\n",
    "for n in range(1,Ks):\n",
    "    \n",
    "    #Train Model and Predict  \n",
    "    neigh = KNeighborsClassifier(n_neighbors = n).fit(X_train,y_train)\n",
    "    pred_test_knn=neigh.predict(X_test)\n",
    "    mean_acc[n-1] = metrics.accuracy_score(y_test, pred_test_knn)\n",
    "\n",
    "    \n",
    "    std_acc[n-1]=np.std(pred_test_knn==y_test)/np.sqrt(pred_test_knn.shape[0])\n",
    "\n",
    "mean_acc"
   ]
  },
  {
   "cell_type": "code",
   "execution_count": 61,
   "metadata": {
    "colab": {
     "base_uri": "https://localhost:8080/",
     "height": 297
    },
    "colab_type": "code",
    "id": "raTOvInw-H46",
    "outputId": "cf4a6862-2fc0-49a9-ebe1-a1ce8582fb24"
   },
   "outputs": [
    {
     "data": {
      "image/png": "[encoded data removed]",
      "text/plain": [
       "<Figure size 432x288 with 1 Axes>"
      ]
     },
     "metadata": {
      "needs_background": "light",
      "tags": []
     },
     "output_type": "display_data"
    }
   ],
   "source": [
    "plt.plot(range(1,Ks),mean_acc,'g')\n",
    "plt.fill_between(range(1,Ks),mean_acc - 1 * std_acc,mean_acc + 1 * std_acc, alpha=0.10)\n",
    "plt.legend(('Accuracy ', '+/- 3xstd'))\n",
    "plt.ylabel('Accuracy ')\n",
    "plt.xlabel('Number of Nabors (K)')\n",
    "plt.tight_layout()\n",
    "plt.show()"
   ]
  },
  {
   "cell_type": "code",
   "execution_count": 62,
   "metadata": {
    "colab": {
     "base_uri": "https://localhost:8080/",
     "height": 33
    },
    "colab_type": "code",
    "id": "ltuMyMsR-MrR",
    "outputId": "f9ea4cb4-5004-4aa2-8cca-becd6d5594b0"
   },
   "outputs": [
    {
     "name": "stdout",
     "output_type": "stream",
     "text": [
      "The best accuracy was with 0.7098948894527003 with k= 37\n"
     ]
    }
   ],
   "source": [
    "print( \"The best accuracy was with\", mean_acc.max(), \"with k=\", mean_acc.argmax()+1) "
   ]
  },
  {
   "cell_type": "code",
   "execution_count": 107,
   "metadata": {
    "colab": {
     "base_uri": "https://localhost:8080/",
     "height": 50
    },
    "colab_type": "code",
    "id": "UrxYZW8m6X3G",
    "outputId": "5fd7b721-dab3-4586-97ce-3e0e11f038e7"
   },
   "outputs": [
    {
     "name": "stdout",
     "output_type": "stream",
     "text": [
      "Accuracy train :  72.13301920985865\n",
      "Accuracy test :  70.59804276911925\n"
     ]
    }
   ],
   "source": [
    "acc_knn = accuracy_score(y_train, pred_knn) * 100\n",
    "acc_test_knn = accuracy_score(y_test, pred_test_knn) * 100\n",
    "print(\"Accuracy train : \", acc_knn)\n",
    "print(\"Accuracy test : \", acc_test_knn)"
   ]
  },
  {
   "cell_type": "markdown",
   "metadata": {
    "colab_type": "text",
    "id": "TaszoLoAqhiH"
   },
   "source": [
    "### 4.5 Naive Bayes <a class=\"anchor\" id=\"5.5\"></a>"
   ]
  },
  {
   "cell_type": "markdown",
   "metadata": {
    "colab_type": "text",
    "id": "RD34-pVLqhiI"
   },
   "source": [
    "In machine learning, **Naive Bayes classifiers** are a family of simple probabilistic classifiers based on applying Bayes' theorem with strong (naive) independence assumptions between the features. Naive Bayes classifiers are highly scalable, requiring a number of parameters linear in the number of variables (features) in a learning problem. Reference [Wikipedia](https://en.wikipedia.org/wiki/Naive_Bayes_classifier)."
   ]
  },
  {
   "cell_type": "code",
   "execution_count": 64,
   "metadata": {
    "colab": {},
    "colab_type": "code",
    "id": "9qNwijbWytPD"
   },
   "outputs": [],
   "source": [
    "#Training\n",
    "model = GaussianNB()\n",
    "model.fit(X_train, y_train)\n",
    "\n",
    "#Prediction\n",
    "pred_gaussian = model.predict(X_train)\n",
    "pred_test_gaussian = model.predict(X_test)"
   ]
  },
  {
   "cell_type": "code",
   "execution_count": 106,
   "metadata": {
    "colab": {
     "base_uri": "https://localhost:8080/",
     "height": 50
    },
    "colab_type": "code",
    "id": "ywpWJRr-ys-N",
    "outputId": "071e3677-c9ab-4880-a9c3-0a482563e6d6"
   },
   "outputs": [
    {
     "name": "stdout",
     "output_type": "stream",
     "text": [
      "Accuracy train :  70.2664008698804\n",
      "Accuracy test :  70.26458861906488\n"
     ]
    }
   ],
   "source": [
    "acc_gaussian = accuracy_score(y_train, pred_gaussian) * 100\n",
    "acc_test_gaussian = accuracy_score(y_test, pred_test_gaussian) * 100\n",
    "\n",
    "print(\"Accuracy train : \", acc_gaussian)\n",
    "print(\"Accuracy test : \", acc_test_gaussian)"
   ]
  },
  {
   "cell_type": "markdown",
   "metadata": {
    "colab_type": "text",
    "id": "eL4_xYw3qhiS"
   },
   "source": [
    "### 4.6 Perceptron <a class=\"anchor\" id=\"5.6\"></a>"
   ]
  },
  {
   "cell_type": "markdown",
   "metadata": {
    "colab_type": "text",
    "id": "XEm7CcLQqhiT"
   },
   "source": [
    "The **Perceptron** is an algorithm for supervised learning of binary classifiers (functions that can decide whether an input, represented by a vector of numbers, belongs to some specific class or not). It is a type of linear classifier, i.e. a classification algorithm that makes its predictions based on a linear predictor function combining a set of weights with the feature vector. The algorithm allows for online learning, in that it processes elements in the training set one at a time. Reference [Wikipedia](https://en.wikipedia.org/wiki/Perceptron)."
   ]
  },
  {
   "cell_type": "code",
   "execution_count": 66,
   "metadata": {
    "colab": {},
    "colab_type": "code",
    "id": "7qmPYfKPyxg4"
   },
   "outputs": [],
   "source": [
    "perceptron = Perceptron()\n",
    "perceptron.fit(X_train, y_train)\n",
    "\n",
    "pred_perceptron = perceptron.predict(X_train)\n",
    "pred_test_perceptron = perceptron.predict(X_test)\n"
   ]
  },
  {
   "cell_type": "code",
   "execution_count": 105,
   "metadata": {
    "colab": {
     "base_uri": "https://localhost:8080/",
     "height": 50
    },
    "colab_type": "code",
    "id": "6oZDhJXJyxLC",
    "outputId": "1567c683-b763-484b-c0ba-4c4eb169ea4e"
   },
   "outputs": [
    {
     "name": "stdout",
     "output_type": "stream",
     "text": [
      "Accuracy train :  63.30010873504893\n",
      "Accuracy test :  62.587894164552374\n"
     ]
    }
   ],
   "source": [
    "acc_perceptron = accuracy_score(y_train, pred_perceptron) * 100\n",
    "acc_test_perceptron = accuracy_score(y_test, pred_test_perceptron) * 100\n",
    "\n",
    "print(\"Accuracy train : \", acc_perceptron)\n",
    "print(\"Accuracy test : \", acc_test_perceptron)"
   ]
  },
  {
   "cell_type": "markdown",
   "metadata": {
    "colab_type": "text",
    "id": "PvTCp5Blqhim"
   },
   "source": [
    "### 4.7 Decision Tree Classifier <a class=\"anchor\" id=\"5.7\"></a>"
   ]
  },
  {
   "cell_type": "markdown",
   "metadata": {
    "colab_type": "text",
    "id": "G3ao_Rs-qhim"
   },
   "source": [
    "This model uses a **Decision Tree** as a predictive model which maps features (tree branches) to conclusions about the target value (tree leaves). Tree models where the target variable can take a finite set of values are called classification trees; in these tree structures, leaves represent class labels and branches represent conjunctions of features that lead to those class labels. Decision trees where the target variable can take continuous values (typically real numbers) are called regression trees. Reference [Wikipedia](https://en.wikipedia.org/wiki/Decision_tree_learning)."
   ]
  },
  {
   "cell_type": "code",
   "execution_count": 68,
   "metadata": {
    "colab": {
     "base_uri": "https://localhost:8080/",
     "height": 117
    },
    "colab_type": "code",
    "id": "0n3-sRjny05K",
    "outputId": "88fd38f4-d838-4aeb-9e8b-5090bddda36c"
   },
   "outputs": [
    {
     "data": {
      "text/plain": [
       "DecisionTreeClassifier(ccp_alpha=0.0, class_weight=None, criterion='entropy',\n",
       "                       max_depth=4, max_features=None, max_leaf_nodes=None,\n",
       "                       min_impurity_decrease=0.0, min_impurity_split=None,\n",
       "                       min_samples_leaf=1, min_samples_split=2,\n",
       "                       min_weight_fraction_leaf=0.0, presort='deprecated',\n",
       "                       random_state=None, splitter='best')"
      ]
     },
     "execution_count": 68,
     "metadata": {
      "tags": []
     },
     "output_type": "execute_result"
    }
   ],
   "source": [
    "DecTree = DecisionTreeClassifier(criterion=\"entropy\", max_depth = 4)\n",
    "DecTree.fit(X_train,y_train)"
   ]
  },
  {
   "cell_type": "code",
   "execution_count": 104,
   "metadata": {
    "colab": {
     "base_uri": "https://localhost:8080/",
     "height": 50
    },
    "colab_type": "code",
    "id": "PFV15pS4AVWS",
    "outputId": "66381564-d8e5-470e-efe4-a47bbea91f7b"
   },
   "outputs": [
    {
     "name": "stdout",
     "output_type": "stream",
     "text": [
      "Accuracy train :  72.6766944545125\n",
      "Accuracy test :  73.1279449075752\n"
     ]
    }
   ],
   "source": [
    "pred_decision_tree = DecTree.predict(X_train)\n",
    "pred_test_decision_tree = DecTree.predict(X_test)\n",
    "\n",
    "acc_decision_tree = metrics.accuracy_score(y_train, pred_decision_tree) * 100\n",
    "acc_test_decision_tree = metrics.accuracy_score(y_test, pred_test_decision_tree) * 100\n",
    "\n",
    "print(\"Accuracy train : \", acc_decision_tree)\n",
    "print(\"Accuracy test : \", acc_test_decision_tree)"
   ]
  },
  {
   "cell_type": "code",
   "execution_count": 70,
   "metadata": {
    "colab": {
     "base_uri": "https://localhost:8080/",
     "height": 167
    },
    "colab_type": "code",
    "id": "6uDjiHZUy0o9",
    "outputId": "a9dd4ed4-430e-4cce-eb4f-4dad5ba311ea"
   },
   "outputs": [
    {
     "name": "stdout",
     "output_type": "stream",
     "text": [
      "              precision    recall  f1-score   support\n",
      "\n",
      "           0       0.73      0.74      0.73      6877\n",
      "           1       0.74      0.72      0.73      6918\n",
      "\n",
      "    accuracy                           0.73     13795\n",
      "   macro avg       0.73      0.73      0.73     13795\n",
      "weighted avg       0.73      0.73      0.73     13795\n",
      "\n"
     ]
    }
   ],
   "source": [
    "print(classification_report(y_test, pred_test_decision_tree))"
   ]
  },
  {
   "cell_type": "markdown",
   "metadata": {
    "colab_type": "text",
    "id": "TCFWhulfqhiy"
   },
   "source": [
    "### 4.8 Random Forests <a class=\"anchor\" id=\"5.8\"></a>"
   ]
  },
  {
   "cell_type": "markdown",
   "metadata": {
    "colab_type": "text",
    "id": "w6Ov7Rnfqhiz"
   },
   "source": [
    "**Random Forests** is one of the most popular model. Random forests or random decision forests are an ensemble learning method for classification, regression and other tasks, that operate by constructing a multitude of decision trees (n_estimators= [100, 300]) at training time and outputting the class that is the mode of the classes (classification) or mean prediction (regression) of the individual trees. Reference [Wikipedia](https://en.wikipedia.org/wiki/Random_forest)."
   ]
  },
  {
   "cell_type": "code",
   "execution_count": 71,
   "metadata": {
    "colab": {
     "base_uri": "https://localhost:8080/",
     "height": 150
    },
    "colab_type": "code",
    "id": "OQxYpiE4y3sV",
    "outputId": "fe2dad5a-0b27-47dd-ae4c-d980c61de3f9"
   },
   "outputs": [
    {
     "data": {
      "text/plain": [
       "RandomForestClassifier(bootstrap=True, ccp_alpha=0.0, class_weight=None,\n",
       "                       criterion='gini', max_depth=None, max_features='auto',\n",
       "                       max_leaf_nodes=None, max_samples=None,\n",
       "                       min_impurity_decrease=0.0, min_impurity_split=None,\n",
       "                       min_samples_leaf=1, min_samples_split=2,\n",
       "                       min_weight_fraction_leaf=0.0, n_estimators=600,\n",
       "                       n_jobs=None, oob_score=False, random_state=None,\n",
       "                       verbose=0, warm_start=False)"
      ]
     },
     "execution_count": 71,
     "metadata": {
      "tags": []
     },
     "output_type": "execute_result"
    }
   ],
   "source": [
    "rfc = RandomForestClassifier(n_estimators=600)\n",
    "rfc.fit(X_train,y_train)"
   ]
  },
  {
   "cell_type": "code",
   "execution_count": 103,
   "metadata": {
    "colab": {
     "base_uri": "https://localhost:8080/",
     "height": 50
    },
    "colab_type": "code",
    "id": "YKDEkjspy3XT",
    "outputId": "354c5a57-eb85-432f-e2e0-1c39c2d8447a"
   },
   "outputs": [
    {
     "name": "stdout",
     "output_type": "stream",
     "text": [
      "Accuracy train :  99.98187749184487\n",
      "Accuracy test :  71.81587531714389\n"
     ]
    }
   ],
   "source": [
    "#predictions\n",
    "pred_random_forest = rfc.predict(X_train)\n",
    "pred_test_random_forest = rfc.predict(X_test)\n",
    "\n",
    "#Evaluation\n",
    "acc_random_forest = metrics.accuracy_score(y_train, pred_random_forest) * 100\n",
    "acc_test_random_forest = metrics.accuracy_score(y_test, pred_test_random_forest) * 100\n",
    "\n",
    "print(\"Accuracy train : \", acc_random_forest)\n",
    "print(\"Accuracy test : \", acc_test_random_forest)"
   ]
  },
  {
   "cell_type": "markdown",
   "metadata": {
    "colab_type": "text",
    "id": "wvEV9UKSEUPN"
   },
   "source": [
    "### 4.9 Stochastic Gradient Descent<a class=\"anchor\" id=\"5.9\"></a>\n",
    "\n",
    "**Stochastic gradient descent** (often abbreviated **SGD**) is an iterative method for optimizing an objective function with suitable smoothness properties (e.g. differentiable or subdifferentiable). It can be regarded as a stochastic approximation of gradient descent optimization, since it replaces the actual gradient (calculated from the entire data set) by an estimate thereof (calculated from a randomly selected subset of the data). Especially in big data applications this reduces the computational burden, achieving faster iterations in trade for a slightly lower convergence rate. Reference [Wikipedia](https://en.wikipedia.org/wiki/Stochastic_gradient_descent)."
   ]
  },
  {
   "cell_type": "code",
   "execution_count": 73,
   "metadata": {
    "colab": {
     "base_uri": "https://localhost:8080/",
     "height": 33
    },
    "colab_type": "code",
    "id": "8dkqhRM_EHg3",
    "outputId": "d531e89e-ff54-4ae1-dada-f1c152cd3d25"
   },
   "outputs": [
    {
     "data": {
      "text/plain": [
       "69.55"
      ]
     },
     "execution_count": 73,
     "metadata": {
      "tags": []
     },
     "output_type": "execute_result"
    }
   ],
   "source": [
    "sgd = SGDClassifier()\n",
    "sgd.fit(X_train, y_train)\n",
    "acc_sgd = round(sgd.score(X_train, y_train) * 100, 2)\n",
    "acc_sgd"
   ]
  },
  {
   "cell_type": "code",
   "execution_count": 74,
   "metadata": {
    "colab": {
     "base_uri": "https://localhost:8080/",
     "height": 33
    },
    "colab_type": "code",
    "id": "yY8R6RUlEeZd",
    "outputId": "98f510eb-a027-4a10-9268-9f50b645bde4"
   },
   "outputs": [
    {
     "data": {
      "text/plain": [
       "70.09"
      ]
     },
     "execution_count": 74,
     "metadata": {
      "tags": []
     },
     "output_type": "execute_result"
    }
   ],
   "source": [
    "acc_test_sgd = round(sgd.score(X_test, y_test) * 100, 2)\n",
    "acc_test_sgd"
   ]
  },
  {
   "cell_type": "markdown",
   "metadata": {
    "colab_type": "text",
    "id": "QQwgMNsiFT2s"
   },
   "source": [
    "### 4.10 XGB Classifier <a class=\"anchor\" id=\"5.10\"></a>\n",
    "\n",
    "XGBoost is an ensemble tree method that apply the principle of boosting weak learners (CARTs generally) using the gradient descent architecture. XGBoost improves upon the base Gradient Boosting Machines (GBM) framework through systems optimization and algorithmic enhancements. Reference [Towards Data Science.](https://towardsdatascience.com/https-medium-com-vishalmorde-xgboost-algorithm-long-she-may-rein-edd9f99be63d)"
   ]
  },
  {
   "cell_type": "code",
   "execution_count": 75,
   "metadata": {
    "colab": {
     "base_uri": "https://localhost:8080/",
     "height": 421
    },
    "colab_type": "code",
    "id": "xO3w2RFdFHzf",
    "outputId": "b87de2f0-948b-466e-d4c7-4b6edc51ab7a"
   },
   "outputs": [
    {
     "name": "stdout",
     "output_type": "stream",
     "text": [
      "0.7249728162377672\n",
      "{'booster': 'gbtree', 'colsample_bytree': 0.715, 'eta': 0.41500000000000004, 'eval_metric': 'auc', 'gamma': 0.51, 'learning_rate': 0.0453, 'max_depth': 10, 'min_child_weight': 3.0250000000000004, 'missing': None, 'n_estimators': 737, 'objective': 'binary:logistic', 'silent': 1, 'subsample': 0.835, 'tree_method': 'exact'}\n",
      "0.7324211670895251\n",
      "{'booster': 'gbtree', 'colsample_bytree': 0.7000000000000001, 'eta': 0.27, 'eval_metric': 'auc', 'gamma': 0.62, 'learning_rate': 0.0165, 'max_depth': 2, 'min_child_weight': 4.2250000000000005, 'missing': None, 'n_estimators': 495, 'objective': 'binary:logistic', 'silent': 1, 'subsample': 0.535, 'tree_method': 'exact'}\n",
      "0.7335991301196086\n",
      "{'booster': 'gbtree', 'colsample_bytree': 0.9, 'eta': 0.155, 'eval_metric': 'auc', 'gamma': 0.78, 'learning_rate': 0.0256, 'max_depth': 5, 'min_child_weight': 6.075, 'missing': None, 'n_estimators': 862, 'objective': 'binary:logistic', 'silent': 1, 'subsample': 0.64, 'tree_method': 'exact'}\n",
      "0.7319137368611817\n",
      "{'booster': 'gbtree', 'colsample_bytree': 0.59, 'eta': 0.255, 'eval_metric': 'auc', 'gamma': 0.9500000000000001, 'learning_rate': 0.013000000000000001, 'max_depth': 10, 'min_child_weight': 6.125, 'missing': None, 'n_estimators': 941, 'objective': 'binary:logistic', 'silent': 1, 'subsample': 0.5750000000000001, 'tree_method': 'exact'}\n",
      "0.734233417905038\n",
      "{'booster': 'gbtree', 'colsample_bytree': 0.665, 'eta': 0.315, 'eval_metric': 'auc', 'gamma': 0.5700000000000001, 'learning_rate': 0.041600000000000005, 'max_depth': 4, 'min_child_weight': 8.525, 'missing': None, 'n_estimators': 704, 'objective': 'binary:logistic', 'silent': 1, 'subsample': 0.905, 'tree_method': 'exact'}\n",
      "0.734215295396883\n",
      "{'booster': 'gbtree', 'colsample_bytree': 0.54, 'eta': 0.19, 'eval_metric': 'auc', 'gamma': 0.8150000000000001, 'learning_rate': 0.0241, 'max_depth': 8, 'min_child_weight': 5.9, 'missing': None, 'n_estimators': 282, 'objective': 'binary:logistic', 'silent': 1, 'subsample': 0.685, 'tree_method': 'exact'}\n",
      "0.7333635375135918\n",
      "{'booster': 'gbtree', 'colsample_bytree': 0.885, 'eta': 0.225, 'eval_metric': 'auc', 'gamma': 0.7000000000000001, 'learning_rate': 0.012100000000000001, 'max_depth': 4, 'min_child_weight': 7.675000000000001, 'missing': None, 'n_estimators': 330, 'objective': 'binary:logistic', 'silent': 1, 'subsample': 0.62, 'tree_method': 'exact'}\n",
      "0.7336897426603842\n",
      "{'booster': 'gbtree', 'colsample_bytree': 0.92, 'eta': 0.055, 'eval_metric': 'auc', 'gamma': 0.91, 'learning_rate': 0.0108, 'max_depth': 6, 'min_child_weight': 7.2250000000000005, 'missing': None, 'n_estimators': 244, 'objective': 'binary:logistic', 'silent': 1, 'subsample': 0.6950000000000001, 'tree_method': 'exact'}\n",
      "0.7345415005436753\n",
      "{'booster': 'gbtree', 'colsample_bytree': 0.525, 'eta': 0.16, 'eval_metric': 'auc', 'gamma': 0.55, 'learning_rate': 0.0239, 'max_depth': 3, 'min_child_weight': 7.95, 'missing': None, 'n_estimators': 557, 'objective': 'binary:logistic', 'silent': 1, 'subsample': 0.635, 'tree_method': 'exact'}\n",
      "0.7318593693367161\n",
      "{'booster': 'gbtree', 'colsample_bytree': 0.63, 'eta': 0.335, 'eval_metric': 'auc', 'gamma': 0.985, 'learning_rate': 0.039, 'max_depth': 8, 'min_child_weight': 2.325, 'missing': None, 'n_estimators': 612, 'objective': 'binary:logistic', 'silent': 1, 'subsample': 0.62, 'tree_method': 'exact'}\n",
      "100%|██████████| 10/10 [47:24<00:00, 284.41s/it, best loss: 0.7249728162377672]\n",
      "best:\n",
      "{'colsample_bytree': 0.715, 'eta': 0.41500000000000004, 'gamma': 0.51, 'learning_rate': 0.0453, 'max_depth': 8, 'min_child_weight': 3.0250000000000004, 'n_estimators': 637, 'subsample': 0.835}\n"
     ]
    }
   ],
   "source": [
    "def hyperopt_xgb_score(params):\n",
    "    clf = XGBClassifier(**params)\n",
    "    current_score = cross_val_score(clf, X_train, y_train, cv=10).mean()\n",
    "    print(current_score, params)\n",
    "    return current_score \n",
    " \n",
    "space_xgb = {\n",
    "            'learning_rate': hp.quniform('learning_rate', 0, 0.05, 0.0001),\n",
    "            'n_estimators': hp.choice('n_estimators', range(100, 1000)),\n",
    "            'eta': hp.quniform('eta', 0.025, 0.5, 0.005),\n",
    "            'max_depth':  hp.choice('max_depth', np.arange(2, 12, dtype=int)),\n",
    "            'min_child_weight': hp.quniform('min_child_weight', 1, 9, 0.025),\n",
    "            'subsample': hp.quniform('subsample', 0.5, 1, 0.005),\n",
    "            'gamma': hp.quniform('gamma', 0.5, 1, 0.005),\n",
    "            'colsample_bytree': hp.quniform('colsample_bytree', 0.5, 1, 0.005),\n",
    "            'eval_metric': 'auc',\n",
    "            'objective': 'binary:logistic',\n",
    "            'booster': 'gbtree',\n",
    "            'tree_method': 'exact',\n",
    "            'silent': 1,\n",
    "            'missing': None\n",
    "        }\n",
    " \n",
    "best = fmin(fn=hyperopt_xgb_score, space=space_xgb, algo=tpe.suggest, max_evals=10)\n",
    "print('best:')\n",
    "print(best)"
   ]
  },
  {
   "cell_type": "code",
   "execution_count": 76,
   "metadata": {
    "colab": {
     "base_uri": "https://localhost:8080/",
     "height": 251
    },
    "colab_type": "code",
    "id": "VGjSFqQsFg9T",
    "outputId": "49dbd597-61fa-4f22-a06e-01c834742157"
   },
   "outputs": [
    {
     "data": {
      "text/plain": [
       "{'booster': 'gbtree',\n",
       " 'colsample_bytree': 0.715,\n",
       " 'eta': 0.41500000000000004,\n",
       " 'eval_metric': 'auc',\n",
       " 'gamma': 0.51,\n",
       " 'learning_rate': 0.0453,\n",
       " 'max_depth': 10,\n",
       " 'min_child_weight': 3.0250000000000004,\n",
       " 'missing': None,\n",
       " 'n_estimators': 737,\n",
       " 'objective': 'binary:logistic',\n",
       " 'silent': 1,\n",
       " 'subsample': 0.835,\n",
       " 'tree_method': 'exact'}"
      ]
     },
     "execution_count": 76,
     "metadata": {
      "tags": []
     },
     "output_type": "execute_result"
    }
   ],
   "source": [
    "params = space_eval(space_xgb, best)\n",
    "params"
   ]
  },
  {
   "cell_type": "code",
   "execution_count": 77,
   "metadata": {
    "colab": {
     "base_uri": "https://localhost:8080/",
     "height": 33
    },
    "colab_type": "code",
    "id": "xJCpEtuZGHRR",
    "outputId": "1c24ced5-d031-4a9f-99b0-314bd5d2076f"
   },
   "outputs": [
    {
     "data": {
      "text/plain": [
       "83.52"
      ]
     },
     "execution_count": 77,
     "metadata": {
      "tags": []
     },
     "output_type": "execute_result"
    }
   ],
   "source": [
    "XGB_Classifier = XGBClassifier(**params)\n",
    "XGB_Classifier.fit(X_train, y_train)\n",
    "acc_XGB_Classifier = round(XGB_Classifier.score(X_train, y_train) * 100, 2)\n",
    "acc_XGB_Classifier"
   ]
  },
  {
   "cell_type": "code",
   "execution_count": 78,
   "metadata": {
    "colab": {
     "base_uri": "https://localhost:8080/",
     "height": 33
    },
    "colab_type": "code",
    "id": "CpMw4uY1GKW4",
    "outputId": "0d5f2816-fd03-4474-aaba-7e131ff560aa"
   },
   "outputs": [
    {
     "data": {
      "text/plain": [
       "72.82"
      ]
     },
     "execution_count": 78,
     "metadata": {
      "tags": []
     },
     "output_type": "execute_result"
    }
   ],
   "source": [
    "acc_test_XGB_Classifier = round(XGB_Classifier.score(X_test, y_test) * 100, 2)\n",
    "acc_test_XGB_Classifier"
   ]
  },
  {
   "cell_type": "code",
   "execution_count": 79,
   "metadata": {
    "colab": {
     "base_uri": "https://localhost:8080/",
     "height": 893
    },
    "colab_type": "code",
    "id": "-hK8OQCHGRpr",
    "outputId": "11baa1b0-ff74-452d-e268-20f1a6e90ff3"
   },
   "outputs": [
    {
     "data": {
      "image/png": "[encoded data removed]",
      "text/plain": [
       "<Figure size 1080x1080 with 1 Axes>"
      ]
     },
     "metadata": {
      "needs_background": "light",
      "tags": []
     },
     "output_type": "display_data"
    }
   ],
   "source": [
    "fig =  plt.figure(figsize = (15,15))\n",
    "axes = fig.add_subplot(111)\n",
    "xgb.plot_importance(XGB_Classifier,ax = axes,height =0.5)\n",
    "plt.show();\n",
    "plt.close()"
   ]
  },
  {
   "cell_type": "markdown",
   "metadata": {
    "colab_type": "text",
    "id": "EQXmIz8ORoG0"
   },
   "source": [
    "### 4.11 LGBM Classifier <a class=\"anchor\" id=\"5.11\"></a>\n",
    "\n",
    "Light GBM is a fast, distributed, high-performance gradient boosting framework based on decision tree algorithms. It splits the tree leaf wise with the best fit whereas other boosting algorithms split the tree depth wise or level wise rather than leaf-wise. So when growing on the same leaf in Light GBM, the leaf-wise algorithm can reduce more loss than the level-wise algorithm and hence results in much better accuracy which can rarely be achieved by any of the existing boosting algorithms. Also, it is surprisingly very fast, hence the word ‘Light’. Reference [Analytics Vidhya](https://www.analyticsvidhya.com/blog/2017/06/which-algorithm-takes-the-crown-light-gbm-vs-xgboost/)."
   ]
  },
  {
   "cell_type": "code",
   "execution_count": 80,
   "metadata": {
    "colab": {
     "base_uri": "https://localhost:8080/",
     "height": 421
    },
    "colab_type": "code",
    "id": "0_Iwqiu2P5Nx",
    "outputId": "acd6788f-2660-4ee0-b112-f81f4d959f82"
   },
   "outputs": [
    {
     "name": "stdout",
     "output_type": "stream",
     "text": [
      "0.7327836172526278\n",
      "{'boosting_type': 'gbdt', 'colsample_bytree': 0.6, 'learning_rate': 0.0413, 'max_depth': 10, 'min_child_weight': 4.05, 'n_estimators': 153, 'num_leaves': 2804, 'objective': 'binary'}\n",
      "0.7339615802827111\n",
      "{'boosting_type': 'gbdt', 'colsample_bytree': 0.895, 'learning_rate': 0.004, 'max_depth': 5, 'min_child_weight': 3.825, 'n_estimators': 562, 'num_leaves': 4006, 'objective': 'binary'}\n",
      "0.7334360275462124\n",
      "{'boosting_type': 'gbdt', 'colsample_bytree': 0.8, 'learning_rate': 0.006500000000000001, 'max_depth': 9, 'min_child_weight': 6.8500000000000005, 'n_estimators': 307, 'num_leaves': 1994, 'objective': 'binary'}\n",
      "0.7340159478071765\n",
      "{'boosting_type': 'gbdt', 'colsample_bytree': 0.51, 'learning_rate': 0.0337, 'max_depth': 7, 'min_child_weight': 6.5, 'n_estimators': 240, 'num_leaves': 104, 'objective': 'binary'}\n",
      "0.7337078651685391\n",
      "{'boosting_type': 'gbdt', 'colsample_bytree': 0.9400000000000001, 'learning_rate': 0.011600000000000001, 'max_depth': 4, 'min_child_weight': 8.975, 'n_estimators': 797, 'num_leaves': 2484, 'objective': 'binary'}\n",
      "0.7283436027546212\n",
      "{'boosting_type': 'gbdt', 'colsample_bytree': 0.855, 'learning_rate': 0.0495, 'max_depth': 9, 'min_child_weight': 4.2250000000000005, 'n_estimators': 561, 'num_leaves': 1356, 'objective': 'binary'}\n",
      "0.7343965204784342\n",
      "{'boosting_type': 'gbdt', 'colsample_bytree': 0.63, 'learning_rate': 0.025500000000000002, 'max_depth': 4, 'min_child_weight': 8.05, 'n_estimators': 919, 'num_leaves': 1628, 'objective': 'binary'}\n",
      "0.7331641899238854\n",
      "{'boosting_type': 'gbdt', 'colsample_bytree': 0.905, 'learning_rate': 0.0114, 'max_depth': 8, 'min_child_weight': 3.7750000000000004, 'n_estimators': 274, 'num_leaves': 1150, 'objective': 'binary'}\n",
      "0.7319137368611817\n",
      "{'boosting_type': 'gbdt', 'colsample_bytree': 0.85, 'learning_rate': 0.0432, 'max_depth': 6, 'min_child_weight': 1.7750000000000001, 'n_estimators': 795, 'num_leaves': 1012, 'objective': 'binary'}\n",
      "0.7344508880028997\n",
      "{'boosting_type': 'gbdt', 'colsample_bytree': 0.675, 'learning_rate': 0.044700000000000004, 'max_depth': 4, 'min_child_weight': 2.0500000000000003, 'n_estimators': 744, 'num_leaves': 1500, 'objective': 'binary'}\n",
      "100%|██████████| 10/10 [06:08<00:00, 36.87s/it, best loss: 0.7283436027546212]\n",
      "best:\n",
      "{'colsample_bytree': 0.855, 'learning_rate': 0.0495, 'max_depth': 7, 'min_child_weight': 4.2250000000000005, 'n_estimators': 461, 'num_leaves': 676}\n"
     ]
    }
   ],
   "source": [
    "def hyperopt_lgb_score(params):\n",
    "    clf = LGBMClassifier(**params)\n",
    "    current_score = cross_val_score(clf, X_train, y_train, cv=10).mean()\n",
    "    print(current_score, params)\n",
    "    return current_score \n",
    " \n",
    "space_lgb = {\n",
    "            'learning_rate': hp.quniform('learning_rate', 0, 0.05, 0.0001),\n",
    "            'n_estimators': hp.choice('n_estimators', range(100, 1000)),\n",
    "            'max_depth':  hp.choice('max_depth', np.arange(2, 12, dtype=int)),\n",
    "            'num_leaves': hp.choice('num_leaves', 2*np.arange(2, 2**11, dtype=int)),\n",
    "            'min_child_weight': hp.quniform('min_child_weight', 1, 9, 0.025),\n",
    "            'colsample_bytree': hp.quniform('colsample_bytree', 0.5, 1, 0.005),\n",
    "            'objective': 'binary',\n",
    "            'boosting_type': 'gbdt',\n",
    "            }\n",
    " \n",
    "best = fmin(fn=hyperopt_lgb_score, space=space_lgb, algo=tpe.suggest, max_evals=10)\n",
    "print('best:')\n",
    "print(best)"
   ]
  },
  {
   "cell_type": "code",
   "execution_count": 81,
   "metadata": {
    "colab": {
     "base_uri": "https://localhost:8080/",
     "height": 150
    },
    "colab_type": "code",
    "id": "bmXgHQ1KRxGT",
    "outputId": "faaaaa25-173d-4096-9c32-7e36bfba2a52"
   },
   "outputs": [
    {
     "data": {
      "text/plain": [
       "{'boosting_type': 'gbdt',\n",
       " 'colsample_bytree': 0.855,\n",
       " 'learning_rate': 0.0495,\n",
       " 'max_depth': 9,\n",
       " 'min_child_weight': 4.2250000000000005,\n",
       " 'n_estimators': 561,\n",
       " 'num_leaves': 1356,\n",
       " 'objective': 'binary'}"
      ]
     },
     "execution_count": 81,
     "metadata": {
      "tags": []
     },
     "output_type": "execute_result"
    }
   ],
   "source": [
    "params = space_eval(space_lgb, best)\n",
    "params"
   ]
  },
  {
   "cell_type": "code",
   "execution_count": 82,
   "metadata": {
    "colab": {
     "base_uri": "https://localhost:8080/",
     "height": 33
    },
    "colab_type": "code",
    "id": "h5s9WBuZR0Ky",
    "outputId": "fd21f48b-7429-4bba-a071-d852f4661c41"
   },
   "outputs": [
    {
     "data": {
      "text/plain": [
       "80.12"
      ]
     },
     "execution_count": 82,
     "metadata": {
      "tags": []
     },
     "output_type": "execute_result"
    }
   ],
   "source": [
    "LGB_Classifier = LGBMClassifier(**params)\n",
    "LGB_Classifier.fit(X_train, y_train)\n",
    "acc_LGB_Classifier = round(LGB_Classifier.score(X_train, y_train) * 100, 2)\n",
    "acc_LGB_Classifier"
   ]
  },
  {
   "cell_type": "code",
   "execution_count": 83,
   "metadata": {
    "colab": {
     "base_uri": "https://localhost:8080/",
     "height": 33
    },
    "colab_type": "code",
    "id": "B1oWM3buR3Ge",
    "outputId": "40909351-b1a4-4912-f37c-ff3caea73857"
   },
   "outputs": [
    {
     "data": {
      "text/plain": [
       "72.95"
      ]
     },
     "execution_count": 83,
     "metadata": {
      "tags": []
     },
     "output_type": "execute_result"
    }
   ],
   "source": [
    "acc_test_LGB_Classifier = round(LGB_Classifier.score(X_test, y_test) * 100, 2)\n",
    "acc_test_LGB_Classifier"
   ]
  },
  {
   "cell_type": "markdown",
   "metadata": {
    "colab_type": "text",
    "id": "6AA-Y25SfCBk"
   },
   "source": [
    "### 5.12 GradientBoostingClassifier <a class=\"anchor\" id=\"5.12\"></a>\n",
    "\n",
    "**Gradient Boosting** builds an additive model in a forward stage-wise fashion; it allows for the optimization of arbitrary differentiable loss functions. In each stage n_classes_ regression trees are fit on the negative gradient of the binomial or multinomial deviance loss function. Binary classification is a special case where only a single regression tree is induced. The features are always randomly permuted at each split. Therefore, the best found split may vary, even with the same training data and max_features=n_features, if the improvement of the criterion is identical for several splits enumerated during the search of the best split. To obtain a deterministic behaviour during fitting, random_state has to be fixed. Reference [sklearn documentation](https://scikit-learn.org/stable/modules/generated/sklearn.ensemble.GradientBoostingClassifier.html)."
   ]
  },
  {
   "cell_type": "code",
   "execution_count": 84,
   "metadata": {
    "colab": {
     "base_uri": "https://localhost:8080/",
     "height": 401
    },
    "colab_type": "code",
    "id": "HypO0YIBfVn6",
    "outputId": "4bf075f8-ad37-4578-e4fb-86849d3ed56a"
   },
   "outputs": [
    {
     "name": "stdout",
     "output_type": "stream",
     "text": [
      "0.720840884378398\n",
      "{'max_depth': 6, 'n_estimators': 972}\n",
      "0.7203878216745199\n",
      "{'max_depth': 6, 'n_estimators': 978}\n",
      "0.7195541862993838\n",
      "{'max_depth': 9, 'n_estimators': 290}\n",
      "0.7330010873504893\n",
      "{'max_depth': 2, 'n_estimators': 910}\n",
      "0.7301196085538237\n",
      "{'max_depth': 8, 'n_estimators': 104}\n",
      "0.7263682493657123\n",
      "{'max_depth': 8, 'n_estimators': 228}\n",
      "0.7332185574483508\n",
      "{'max_depth': 2, 'n_estimators': 714}\n",
      "0.7314969191736137\n",
      "{'max_depth': 5, 'n_estimators': 329}\n",
      "0.7327836172526278\n",
      "{'max_depth': 2, 'n_estimators': 209}\n",
      "0.7293403407031533\n",
      "{'max_depth': 6, 'n_estimators': 412}\n",
      "100%|██████████| 10/10 [1:28:08<00:00, 528.86s/it, best loss: 0.7195541862993838]\n",
      "best:\n",
      "{'max_depth': 7, 'n_estimators': 190}\n"
     ]
    }
   ],
   "source": [
    "def hyperopt_gb_score(params):\n",
    "    clf = GradientBoostingClassifier(**params)\n",
    "    current_score = cross_val_score(clf, X_train, y_train, cv=10).mean()\n",
    "    print(current_score, params)\n",
    "    return current_score \n",
    " \n",
    "space_gb = {\n",
    "            'n_estimators': hp.choice('n_estimators', range(100, 1000)),\n",
    "            'max_depth': hp.choice('max_depth', np.arange(2, 10, dtype=int))            \n",
    "        }\n",
    " \n",
    "best = fmin(fn=hyperopt_gb_score, space=space_gb, algo=tpe.suggest, max_evals=10)\n",
    "print('best:')\n",
    "print(best)"
   ]
  },
  {
   "cell_type": "code",
   "execution_count": 85,
   "metadata": {
    "colab": {
     "base_uri": "https://localhost:8080/",
     "height": 33
    },
    "colab_type": "code",
    "id": "PbzzCmR9flBh",
    "outputId": "6034fa8e-797e-42b1-80a9-309385b1370f"
   },
   "outputs": [
    {
     "data": {
      "text/plain": [
       "{'max_depth': 9, 'n_estimators': 290}"
      ]
     },
     "execution_count": 85,
     "metadata": {
      "tags": []
     },
     "output_type": "execute_result"
    }
   ],
   "source": [
    " params = space_eval(space_gb, best)\n",
    "params"
   ]
  },
  {
   "cell_type": "code",
   "execution_count": 86,
   "metadata": {
    "colab": {
     "base_uri": "https://localhost:8080/",
     "height": 33
    },
    "colab_type": "code",
    "id": "HGt2tVZMfnT2",
    "outputId": "3dadb0bc-a105-4006-c5b8-921e6d3ce5b2"
   },
   "outputs": [
    {
     "data": {
      "text/plain": [
       "87.53"
      ]
     },
     "execution_count": 86,
     "metadata": {
      "tags": []
     },
     "output_type": "execute_result"
    }
   ],
   "source": [
    "# Gradient Boosting Classifier\n",
    "\n",
    "gradient_boosting = GradientBoostingClassifier(**params)\n",
    "gradient_boosting.fit(X_train, y_train)\n",
    "acc_gradient_boosting = round(gradient_boosting.score(X_train, y_train) * 100, 2)\n",
    "acc_gradient_boosting"
   ]
  },
  {
   "cell_type": "code",
   "execution_count": 87,
   "metadata": {
    "colab": {
     "base_uri": "https://localhost:8080/",
     "height": 33
    },
    "colab_type": "code",
    "id": "uOupBmlPfp7r",
    "outputId": "2ce950a7-13ef-48cc-8847-859758a9c8ae"
   },
   "outputs": [
    {
     "data": {
      "text/plain": [
       "72.35"
      ]
     },
     "execution_count": 87,
     "metadata": {
      "tags": []
     },
     "output_type": "execute_result"
    }
   ],
   "source": [
    "acc_test_gradient_boosting = round(gradient_boosting.score(X_test, y_test) * 100, 2)\n",
    "acc_test_gradient_boosting"
   ]
  },
  {
   "cell_type": "markdown",
   "metadata": {
    "colab_type": "text",
    "id": "PEIdRY4dqPfq"
   },
   "source": [
    "### 5.13 RidgeClassifier <a class=\"anchor\" id=\"5.13\"></a>\n",
    "\n",
    "Tikhonov Regularization, colloquially known as **Ridge Regression**, is the most commonly used regression algorithm to approximate an answer for an equation with no unique solution. This type of problem is very common in machine learning tasks, where the \"best\" solution must be chosen using limited data. If a unique solution exists, algorithm will return the optimal value. However, if multiple solutions exist, it may choose any of them. Reference [Brilliant.org](https://brilliant.org/wiki/ridge-regression/)."
   ]
  },
  {
   "cell_type": "code",
   "execution_count": 88,
   "metadata": {
    "colab": {
     "base_uri": "https://localhost:8080/",
     "height": 33
    },
    "colab_type": "code",
    "id": "KEAIwcdpqe9y",
    "outputId": "4e993cb2-62de-46c4-862f-fa982576a3c8"
   },
   "outputs": [
    {
     "data": {
      "text/plain": [
       "72.34"
      ]
     },
     "execution_count": 88,
     "metadata": {
      "tags": []
     },
     "output_type": "execute_result"
    }
   ],
   "source": [
    "ridge_classifier = RidgeClassifier()\n",
    "ridge_classifier.fit(X_train, y_train)\n",
    "acc_ridge_classifier = round(ridge_classifier.score(X_train, y_train) * 100, 2)\n",
    "acc_ridge_classifier"
   ]
  },
  {
   "cell_type": "code",
   "execution_count": 89,
   "metadata": {
    "colab": {
     "base_uri": "https://localhost:8080/",
     "height": 33
    },
    "colab_type": "code",
    "id": "UN5Jpq5Mqzkh",
    "outputId": "d69b67af-9e80-4908-d839-fc12dad79d73"
   },
   "outputs": [
    {
     "data": {
      "text/plain": [
       "72.58"
      ]
     },
     "execution_count": 89,
     "metadata": {
      "tags": []
     },
     "output_type": "execute_result"
    }
   ],
   "source": [
    "acc_test_ridge_classifier = round(ridge_classifier.score(X_test, y_test) * 100, 2)\n",
    "acc_test_ridge_classifier"
   ]
  },
  {
   "cell_type": "markdown",
   "metadata": {
    "colab_type": "text",
    "id": "kpBWd2tFrDGq"
   },
   "source": [
    "### 4.14 BaggingClassifier <a class=\"anchor\" id=\"5.14\"></a>\n",
    "\n",
    "Bootstrap aggregating, also called **bagging**, is a machine learning ensemble meta-algorithm designed to improve the stability and accuracy of machine learning algorithms used in statistical classification and regression. It also reduces variance and helps to avoid overfitting. Although it is usually applied to decision tree methods, it can be used with any type of method. Bagging is a special case of the model averaging approach. Bagging leads to \"improvements for unstable procedures\", which include, for example, artificial neural networks, classification and regression trees, and subset selection in linear regression. On the other hand, it can mildly degrade the performance of stable methods such as K-nearest neighbors. Reference [Wikipedia](https://en.wikipedia.org/wiki/Bootstrap_aggregating).\n",
    "\n",
    "A **Bagging classifier** is an ensemble meta-estimator that fits base classifiers each on random subsets of the original dataset and then aggregate their individual predictions (either by voting or by averaging) to form a final prediction. Such a meta-estimator can typically be used as a way to reduce the variance of a black-box estimator (e.g., a decision tree), by introducing randomization into its construction procedure and then making an ensemble out of it. Reference [sklearn documentation](https://scikit-learn.org/stable/modules/generated/sklearn.ensemble.BaggingClassifier.html)."
   ]
  },
  {
   "cell_type": "code",
   "execution_count": 90,
   "metadata": {
    "colab": {
     "base_uri": "https://localhost:8080/",
     "height": 33
    },
    "colab_type": "code",
    "id": "ZQz7Gl2mq_gC",
    "outputId": "a88ecc24-dd80-4dd8-abc9-801953cdb791"
   },
   "outputs": [
    {
     "data": {
      "text/plain": [
       "97.95"
      ]
     },
     "execution_count": 90,
     "metadata": {
      "tags": []
     },
     "output_type": "execute_result"
    }
   ],
   "source": [
    "bagging_classifier = BaggingClassifier()\n",
    "bagging_classifier.fit(X_train, y_train)\n",
    "Y_pred = bagging_classifier.predict(X_test).astype(int)\n",
    "acc_bagging_classifier = round(bagging_classifier.score(X_train, y_train) * 100, 2)\n",
    "acc_bagging_classifier"
   ]
  },
  {
   "cell_type": "code",
   "execution_count": 91,
   "metadata": {
    "colab": {
     "base_uri": "https://localhost:8080/",
     "height": 33
    },
    "colab_type": "code",
    "id": "DSWXpTnErXY-",
    "outputId": "81dab053-17f2-4c07-bd65-f598ce09361f"
   },
   "outputs": [
    {
     "data": {
      "text/plain": [
       "69.24"
      ]
     },
     "execution_count": 91,
     "metadata": {
      "tags": []
     },
     "output_type": "execute_result"
    }
   ],
   "source": [
    "acc_test_bagging_classifier = round(bagging_classifier.score(X_test, y_test) * 100, 2)\n",
    "acc_test_bagging_classifier"
   ]
  },
  {
   "cell_type": "markdown",
   "metadata": {
    "colab_type": "text",
    "id": "MA547SsdrwZJ"
   },
   "source": [
    "### 4.15 ExtraTreesClassifier <a class=\"anchor\" id=\"5.15\"></a>\n",
    "\n",
    "**ExtraTreesClassifier** implements a meta estimator that fits a number of randomized decision trees (a.k.a. extra-trees) on various sub-samples of the dataset and uses averaging to improve the predictive accuracy and control over-fitting. The default values for the parameters controlling the size of the trees (e.g. max_depth, min_samples_leaf, etc.) lead to fully grown and unpruned trees which can potentially be very large on some data sets. To reduce memory consumption, the complexity and size of the trees should be controlled by setting those parameter values. Reference [sklearn documentation](https://scikit-learn.org/stable/modules/generated/sklearn.ensemble.ExtraTreesClassifier.html). \n",
    "\n",
    "In extremely randomized trees, randomness goes one step further in the way splits are computed. As in random forests, a random subset of candidate features is used, but instead of looking for the most discriminative thresholds, thresholds are drawn at random for each candidate feature and the best of these randomly-generated thresholds is picked as the splitting rule. This usually allows to reduce the variance of the model a bit more, at the expense of a slightly greater increase in bias. Reference [sklearn documentation](https://scikit-learn.org/stable/modules/ensemble.html#Extremely%20Randomized%20Trees)."
   ]
  },
  {
   "cell_type": "code",
   "execution_count": 92,
   "metadata": {
    "colab": {
     "base_uri": "https://localhost:8080/",
     "height": 401
    },
    "colab_type": "code",
    "id": "FlclfWeTrwCQ",
    "outputId": "a6c25754-636c-40aa-e2cd-843a3c488996"
   },
   "outputs": [
    {
     "name": "stdout",
     "output_type": "stream",
     "text": [
      "0.7339615802827111\n",
      "{'max_depth': 11, 'max_features': None, 'min_samples_leaf': 1, 'n_estimators': 767}\n",
      "0.7342515404131932\n",
      "{'max_depth': 10, 'max_features': None, 'min_samples_leaf': 4, 'n_estimators': 240}\n",
      "0.7070496556723451\n",
      "{'max_depth': 2, 'max_features': None, 'min_samples_leaf': 1, 'n_estimators': 817}\n",
      "0.734233417905038\n",
      "{'max_depth': 10, 'max_features': None, 'min_samples_leaf': 3, 'n_estimators': 615}\n",
      "0.7315512866980789\n",
      "{'max_depth': 6, 'max_features': None, 'min_samples_leaf': 2, 'n_estimators': 298}\n",
      "0.7320949619427328\n",
      "{'max_depth': 7, 'max_features': None, 'min_samples_leaf': 2, 'n_estimators': 716}\n",
      "0.7249728162377671\n",
      "{'max_depth': 4, 'max_features': None, 'min_samples_leaf': 3, 'n_estimators': 789}\n",
      "0.7337622326930048\n",
      "{'max_depth': 10, 'max_features': None, 'min_samples_leaf': 2, 'n_estimators': 617}\n",
      "0.7339072127582457\n",
      "{'max_depth': 9, 'max_features': None, 'min_samples_leaf': 4, 'n_estimators': 200}\n",
      "0.7345596230518303\n",
      "{'max_depth': 10, 'max_features': None, 'min_samples_leaf': 2, 'n_estimators': 187}\n",
      "100%|██████████| 10/10 [29:20<00:00, 176.01s/it, best loss: 0.7070496556723451]\n",
      "best:\n",
      "{'max_depth': 0, 'min_samples_leaf': 0, 'n_estimators': 717}\n"
     ]
    }
   ],
   "source": [
    "def hyperopt_etc_score(params):\n",
    "    clf = ExtraTreesClassifier(**params)\n",
    "    current_score = cross_val_score(clf, X_train, y_train, cv=10).mean()\n",
    "    print(current_score, params)\n",
    "    return current_score \n",
    " \n",
    "space_etc = {\n",
    "            'n_estimators': hp.choice('n_estimators', range(100, 1000)),\n",
    "            'max_features': hp.choice('max_features', np.arange(2, 17, dtype=int)),\n",
    "            'min_samples_leaf': hp.choice('min_samples_leaf', np.arange(1, 5, dtype=int)),\n",
    "            'max_depth':  hp.choice('max_depth', np.arange(2, 12, dtype=int)),\n",
    "            'max_features': None # for small number of features\n",
    "        }\n",
    " \n",
    "best = fmin(fn=hyperopt_etc_score, space=space_etc, algo=tpe.suggest, max_evals=10)\n",
    "print('best:')\n",
    "print(best)"
   ]
  },
  {
   "cell_type": "code",
   "execution_count": 93,
   "metadata": {
    "colab": {
     "base_uri": "https://localhost:8080/",
     "height": 84
    },
    "colab_type": "code",
    "id": "KCHzeDw1rpKe",
    "outputId": "af3523f7-3e57-438c-9c50-b0710046cf32"
   },
   "outputs": [
    {
     "data": {
      "text/plain": [
       "{'max_depth': 2,\n",
       " 'max_features': None,\n",
       " 'min_samples_leaf': 1,\n",
       " 'n_estimators': 817}"
      ]
     },
     "execution_count": 93,
     "metadata": {
      "tags": []
     },
     "output_type": "execute_result"
    }
   ],
   "source": [
    "params = space_eval(space_etc, best)\n",
    "params"
   ]
  },
  {
   "cell_type": "code",
   "execution_count": 94,
   "metadata": {
    "colab": {
     "base_uri": "https://localhost:8080/",
     "height": 33
    },
    "colab_type": "code",
    "id": "-4CIQ7z9sDp8",
    "outputId": "7793803a-c32e-4f97-8635-fdf009c8e554"
   },
   "outputs": [
    {
     "data": {
      "text/plain": [
       "70.51"
      ]
     },
     "execution_count": 94,
     "metadata": {
      "tags": []
     },
     "output_type": "execute_result"
    }
   ],
   "source": [
    "extra_trees_classifier = ExtraTreesClassifier(**params)\n",
    "extra_trees_classifier.fit(X_train, y_train)\n",
    "acc_etc = round(extra_trees_classifier.score(X_train, y_train) * 100, 2)\n",
    "acc_etc"
   ]
  },
  {
   "cell_type": "code",
   "execution_count": 95,
   "metadata": {
    "colab": {
     "base_uri": "https://localhost:8080/",
     "height": 33
    },
    "colab_type": "code",
    "id": "ePx3aMGbsI7B",
    "outputId": "d284f8d3-e797-42c0-b12e-a3da1b23dbec"
   },
   "outputs": [
    {
     "data": {
      "text/plain": [
       "70.7"
      ]
     },
     "execution_count": 95,
     "metadata": {
      "tags": []
     },
     "output_type": "execute_result"
    }
   ],
   "source": [
    "acc_test_etc = round(extra_trees_classifier.score(X_test, y_test) * 100, 2)\n",
    "acc_test_etc"
   ]
  },
  {
   "cell_type": "markdown",
   "metadata": {
    "colab_type": "text",
    "id": "WH43uXoLqhi9"
   },
   "source": [
    "## 5. Models evaluation <a class=\"anchor\" id=\"6\"></a>"
   ]
  },
  {
   "cell_type": "code",
   "execution_count": 1,
   "metadata": {
    "colab": {},
    "colab_type": "code",
    "id": "M8lUF0ulqhjB"
   },
   "outputs": [
    {
     "ename": "NameError",
     "evalue": "name 'pd' is not defined",
     "output_type": "error",
     "traceback": [
      "\u001b[1;31m---------------------------------------------------------------------------\u001b[0m",
      "\u001b[1;31mNameError\u001b[0m                                 Traceback (most recent call last)",
      "\u001b[1;32m<ipython-input-1-eb6791bafd9f>\u001b[0m in \u001b[0;36m<module>\u001b[1;34m\u001b[0m\n\u001b[1;32m----> 1\u001b[1;33m models = pd.DataFrame({\n\u001b[0m\u001b[0;32m      2\u001b[0m        'Model': ['Logistic Regression', 'Support Vector Machines', 'Linear SVC', 'k-Nearest Neighbors', 'Naive Bayes', \n\u001b[0;32m      3\u001b[0m               \u001b[1;34m'Perceptron'\u001b[0m\u001b[1;33m,\u001b[0m\u001b[1;33m\u001b[0m\u001b[1;33m\u001b[0m\u001b[0m\n\u001b[0;32m      4\u001b[0m               \u001b[1;34m'Decision Tree Classifier'\u001b[0m\u001b[1;33m,\u001b[0m \u001b[1;34m'Random Forest'\u001b[0m\u001b[1;33m,\u001b[0m \u001b[1;34m'Stochastic Gradient Decent'\u001b[0m\u001b[1;33m,\u001b[0m   \u001b[1;34m'XGBClassifier'\u001b[0m\u001b[1;33m,\u001b[0m \u001b[1;34m'LGBMClassifier'\u001b[0m\u001b[1;33m,\u001b[0m\u001b[1;33m\u001b[0m\u001b[1;33m\u001b[0m\u001b[0m\n\u001b[0;32m      5\u001b[0m               'GradientBoostingClassifier', 'RidgeClassifier', 'BaggingClassifier', 'ExtraTreesClassifier', ],\n",
      "\u001b[1;31mNameError\u001b[0m: name 'pd' is not defined"
     ]
    }
   ],
   "source": [
    "\n",
    "models = pd.DataFrame({\n",
    "       'Model': ['Logistic Regression', 'Support Vector Machines', 'Linear SVC', 'k-Nearest Neighbors', 'Naive Bayes', \n",
    "              'Perceptron',\n",
    "              'Decision Tree Classifier', 'Random Forest', 'Stochastic Gradient Decent',   'XGBClassifier', 'LGBMClassifier',\n",
    "              'GradientBoostingClassifier', 'RidgeClassifier', 'BaggingClassifier', 'ExtraTreesClassifier', ],\n",
    "    \n",
    "    'Score_train': [acc_log, acc_svc, acc_linear_svc, acc_knn, acc_gaussian, \n",
    "              acc_perceptron, \n",
    "              acc_decision_tree, acc_random_forest, acc_sgd, acc_XGB_Classifier, acc_LGB_Classifier,\n",
    "              acc_gradient_boosting, acc_ridge_classifier, acc_bagging_classifier, acc_etc, \n",
    "              ],\n",
    "    'Score_test': [acc_test_log, acc_test_svc, acc_test_linear_svc, acc_test_knn, acc_test_gaussian, \n",
    "              acc_test_perceptron, \n",
    "              acc_test_decision_tree, acc_test_random_forest, acc_test_sgd, acc_test_XGB_Classifier, acc_test_LGB_Classifier,\n",
    "              acc_test_gradient_boosting, acc_test_ridge_classifier, acc_test_bagging_classifier, acc_test_etc, \n",
    "             ]\n",
    "                    })"
   ]
  },
  {
   "cell_type": "code",
   "execution_count": 112,
   "metadata": {
    "colab": {
     "base_uri": "https://localhost:8080/",
     "height": 494
    },
    "colab_type": "code",
    "id": "-u6fwpp9qhjF",
    "outputId": "53408315-887d-4702-9fa4-fa31e9542f3f"
   },
   "outputs": [
    {
     "data": {
      "text/html": [
       "<div>\n",
       "<style scoped>\n",
       "    .dataframe tbody tr th:only-of-type {\n",
       "        vertical-align: middle;\n",
       "    }\n",
       "\n",
       "    .dataframe tbody tr th {\n",
       "        vertical-align: top;\n",
       "    }\n",
       "\n",
       "    .dataframe thead th {\n",
       "        text-align: right;\n",
       "    }\n",
       "</style>\n",
       "<table border=\"1\" class=\"dataframe\">\n",
       "  <thead>\n",
       "    <tr style=\"text-align: right;\">\n",
       "      <th></th>\n",
       "      <th>Model</th>\n",
       "      <th>Score_train</th>\n",
       "      <th>Score_test</th>\n",
       "    </tr>\n",
       "  </thead>\n",
       "  <tbody>\n",
       "    <tr>\n",
       "      <th>8</th>\n",
       "      <td>Random Forest</td>\n",
       "      <td>99.981877</td>\n",
       "      <td>71.815875</td>\n",
       "    </tr>\n",
       "    <tr>\n",
       "      <th>13</th>\n",
       "      <td>BaggingClassifier</td>\n",
       "      <td>97.950000</td>\n",
       "      <td>69.240000</td>\n",
       "    </tr>\n",
       "    <tr>\n",
       "      <th>11</th>\n",
       "      <td>GradientBoostingClassifier</td>\n",
       "      <td>87.530000</td>\n",
       "      <td>72.350000</td>\n",
       "    </tr>\n",
       "    <tr>\n",
       "      <th>9</th>\n",
       "      <td>XGBClassifier</td>\n",
       "      <td>83.520000</td>\n",
       "      <td>72.820000</td>\n",
       "    </tr>\n",
       "    <tr>\n",
       "      <th>10</th>\n",
       "      <td>LGBMClassifier</td>\n",
       "      <td>80.120000</td>\n",
       "      <td>72.950000</td>\n",
       "    </tr>\n",
       "    <tr>\n",
       "      <th>7</th>\n",
       "      <td>Decision Tree Classifier</td>\n",
       "      <td>72.676694</td>\n",
       "      <td>73.127945</td>\n",
       "    </tr>\n",
       "    <tr>\n",
       "      <th>2</th>\n",
       "      <td>Linear SVC</td>\n",
       "      <td>72.374049</td>\n",
       "      <td>72.729250</td>\n",
       "    </tr>\n",
       "    <tr>\n",
       "      <th>12</th>\n",
       "      <td>RidgeClassifier</td>\n",
       "      <td>72.340000</td>\n",
       "      <td>72.580000</td>\n",
       "    </tr>\n",
       "    <tr>\n",
       "      <th>3</th>\n",
       "      <td>k-Nearest Neighbors</td>\n",
       "      <td>72.133019</td>\n",
       "      <td>70.598043</td>\n",
       "    </tr>\n",
       "    <tr>\n",
       "      <th>0</th>\n",
       "      <td>Logistic Regression</td>\n",
       "      <td>71.654585</td>\n",
       "      <td>71.939108</td>\n",
       "    </tr>\n",
       "    <tr>\n",
       "      <th>14</th>\n",
       "      <td>ExtraTreesClassifier</td>\n",
       "      <td>70.510000</td>\n",
       "      <td>70.700000</td>\n",
       "    </tr>\n",
       "    <tr>\n",
       "      <th>4</th>\n",
       "      <td>Naive Bayes</td>\n",
       "      <td>70.266401</td>\n",
       "      <td>70.264589</td>\n",
       "    </tr>\n",
       "    <tr>\n",
       "      <th>6</th>\n",
       "      <td>Stochastic Gradient Decent</td>\n",
       "      <td>69.550000</td>\n",
       "      <td>70.090000</td>\n",
       "    </tr>\n",
       "    <tr>\n",
       "      <th>5</th>\n",
       "      <td>Perceptron</td>\n",
       "      <td>63.300109</td>\n",
       "      <td>62.587894</td>\n",
       "    </tr>\n",
       "    <tr>\n",
       "      <th>1</th>\n",
       "      <td>Support Vector Machines</td>\n",
       "      <td>61.495107</td>\n",
       "      <td>60.724900</td>\n",
       "    </tr>\n",
       "  </tbody>\n",
       "</table>\n",
       "</div>"
      ],
      "text/plain": [
       "                         Model  Score_train  Score_test\n",
       "8                Random Forest    99.981877   71.815875\n",
       "13           BaggingClassifier    97.950000   69.240000\n",
       "11  GradientBoostingClassifier    87.530000   72.350000\n",
       "9                XGBClassifier    83.520000   72.820000\n",
       "10              LGBMClassifier    80.120000   72.950000\n",
       "7     Decision Tree Classifier    72.676694   73.127945\n",
       "2                   Linear SVC    72.374049   72.729250\n",
       "12             RidgeClassifier    72.340000   72.580000\n",
       "3          k-Nearest Neighbors    72.133019   70.598043\n",
       "0          Logistic Regression    71.654585   71.939108\n",
       "14        ExtraTreesClassifier    70.510000   70.700000\n",
       "4                  Naive Bayes    70.266401   70.264589\n",
       "6   Stochastic Gradient Decent    69.550000   70.090000\n",
       "5                   Perceptron    63.300109   62.587894\n",
       "1      Support Vector Machines    61.495107   60.724900"
      ]
     },
     "execution_count": 112,
     "metadata": {
      "tags": []
     },
     "output_type": "execute_result"
    }
   ],
   "source": [
    "models.sort_values(by=['Score_train', 'Score_test'], ascending=False)"
   ]
  },
  {
   "cell_type": "code",
   "execution_count": 113,
   "metadata": {
    "colab": {
     "base_uri": "https://localhost:8080/",
     "height": 494
    },
    "colab_type": "code",
    "id": "LE8GHE_TqhjK",
    "outputId": "85184b22-64a6-41a1-9f46-4a89d8f861ab"
   },
   "outputs": [
    {
     "data": {
      "text/html": [
       "<div>\n",
       "<style scoped>\n",
       "    .dataframe tbody tr th:only-of-type {\n",
       "        vertical-align: middle;\n",
       "    }\n",
       "\n",
       "    .dataframe tbody tr th {\n",
       "        vertical-align: top;\n",
       "    }\n",
       "\n",
       "    .dataframe thead th {\n",
       "        text-align: right;\n",
       "    }\n",
       "</style>\n",
       "<table border=\"1\" class=\"dataframe\">\n",
       "  <thead>\n",
       "    <tr style=\"text-align: right;\">\n",
       "      <th></th>\n",
       "      <th>Model</th>\n",
       "      <th>Score_train</th>\n",
       "      <th>Score_test</th>\n",
       "    </tr>\n",
       "  </thead>\n",
       "  <tbody>\n",
       "    <tr>\n",
       "      <th>7</th>\n",
       "      <td>Decision Tree Classifier</td>\n",
       "      <td>72.676694</td>\n",
       "      <td>73.127945</td>\n",
       "    </tr>\n",
       "    <tr>\n",
       "      <th>10</th>\n",
       "      <td>LGBMClassifier</td>\n",
       "      <td>80.120000</td>\n",
       "      <td>72.950000</td>\n",
       "    </tr>\n",
       "    <tr>\n",
       "      <th>9</th>\n",
       "      <td>XGBClassifier</td>\n",
       "      <td>83.520000</td>\n",
       "      <td>72.820000</td>\n",
       "    </tr>\n",
       "    <tr>\n",
       "      <th>2</th>\n",
       "      <td>Linear SVC</td>\n",
       "      <td>72.374049</td>\n",
       "      <td>72.729250</td>\n",
       "    </tr>\n",
       "    <tr>\n",
       "      <th>12</th>\n",
       "      <td>RidgeClassifier</td>\n",
       "      <td>72.340000</td>\n",
       "      <td>72.580000</td>\n",
       "    </tr>\n",
       "    <tr>\n",
       "      <th>11</th>\n",
       "      <td>GradientBoostingClassifier</td>\n",
       "      <td>87.530000</td>\n",
       "      <td>72.350000</td>\n",
       "    </tr>\n",
       "    <tr>\n",
       "      <th>0</th>\n",
       "      <td>Logistic Regression</td>\n",
       "      <td>71.654585</td>\n",
       "      <td>71.939108</td>\n",
       "    </tr>\n",
       "    <tr>\n",
       "      <th>8</th>\n",
       "      <td>Random Forest</td>\n",
       "      <td>99.981877</td>\n",
       "      <td>71.815875</td>\n",
       "    </tr>\n",
       "    <tr>\n",
       "      <th>14</th>\n",
       "      <td>ExtraTreesClassifier</td>\n",
       "      <td>70.510000</td>\n",
       "      <td>70.700000</td>\n",
       "    </tr>\n",
       "    <tr>\n",
       "      <th>3</th>\n",
       "      <td>k-Nearest Neighbors</td>\n",
       "      <td>72.133019</td>\n",
       "      <td>70.598043</td>\n",
       "    </tr>\n",
       "    <tr>\n",
       "      <th>4</th>\n",
       "      <td>Naive Bayes</td>\n",
       "      <td>70.266401</td>\n",
       "      <td>70.264589</td>\n",
       "    </tr>\n",
       "    <tr>\n",
       "      <th>6</th>\n",
       "      <td>Stochastic Gradient Decent</td>\n",
       "      <td>69.550000</td>\n",
       "      <td>70.090000</td>\n",
       "    </tr>\n",
       "    <tr>\n",
       "      <th>13</th>\n",
       "      <td>BaggingClassifier</td>\n",
       "      <td>97.950000</td>\n",
       "      <td>69.240000</td>\n",
       "    </tr>\n",
       "    <tr>\n",
       "      <th>5</th>\n",
       "      <td>Perceptron</td>\n",
       "      <td>63.300109</td>\n",
       "      <td>62.587894</td>\n",
       "    </tr>\n",
       "    <tr>\n",
       "      <th>1</th>\n",
       "      <td>Support Vector Machines</td>\n",
       "      <td>61.495107</td>\n",
       "      <td>60.724900</td>\n",
       "    </tr>\n",
       "  </tbody>\n",
       "</table>\n",
       "</div>"
      ],
      "text/plain": [
       "                         Model  Score_train  Score_test\n",
       "7     Decision Tree Classifier    72.676694   73.127945\n",
       "10              LGBMClassifier    80.120000   72.950000\n",
       "9                XGBClassifier    83.520000   72.820000\n",
       "2                   Linear SVC    72.374049   72.729250\n",
       "12             RidgeClassifier    72.340000   72.580000\n",
       "11  GradientBoostingClassifier    87.530000   72.350000\n",
       "0          Logistic Regression    71.654585   71.939108\n",
       "8                Random Forest    99.981877   71.815875\n",
       "14        ExtraTreesClassifier    70.510000   70.700000\n",
       "3          k-Nearest Neighbors    72.133019   70.598043\n",
       "4                  Naive Bayes    70.266401   70.264589\n",
       "6   Stochastic Gradient Decent    69.550000   70.090000\n",
       "13           BaggingClassifier    97.950000   69.240000\n",
       "5                   Perceptron    63.300109   62.587894\n",
       "1      Support Vector Machines    61.495107   60.724900"
      ]
     },
     "execution_count": 113,
     "metadata": {
      "tags": []
     },
     "output_type": "execute_result"
    }
   ],
   "source": [
    "models.sort_values(by=['Score_test', 'Score_train'], ascending=False)"
   ]
  },
  {
   "cell_type": "code",
   "execution_count": 114,
   "metadata": {
    "colab": {
     "base_uri": "https://localhost:8080/",
     "height": 494
    },
    "colab_type": "code",
    "id": "U1KPewEPqhjQ",
    "outputId": "d57d2455-9cfc-4d4e-dc0a-c8928e97196f"
   },
   "outputs": [
    {
     "data": {
      "text/html": [
       "<div>\n",
       "<style scoped>\n",
       "    .dataframe tbody tr th:only-of-type {\n",
       "        vertical-align: middle;\n",
       "    }\n",
       "\n",
       "    .dataframe tbody tr th {\n",
       "        vertical-align: top;\n",
       "    }\n",
       "\n",
       "    .dataframe thead th {\n",
       "        text-align: right;\n",
       "    }\n",
       "</style>\n",
       "<table border=\"1\" class=\"dataframe\">\n",
       "  <thead>\n",
       "    <tr style=\"text-align: right;\">\n",
       "      <th></th>\n",
       "      <th>Model</th>\n",
       "      <th>Score_train</th>\n",
       "      <th>Score_test</th>\n",
       "      <th>Score_diff</th>\n",
       "    </tr>\n",
       "  </thead>\n",
       "  <tbody>\n",
       "    <tr>\n",
       "      <th>4</th>\n",
       "      <td>Naive Bayes</td>\n",
       "      <td>70.266401</td>\n",
       "      <td>70.264589</td>\n",
       "      <td>0.001812</td>\n",
       "    </tr>\n",
       "    <tr>\n",
       "      <th>14</th>\n",
       "      <td>ExtraTreesClassifier</td>\n",
       "      <td>70.510000</td>\n",
       "      <td>70.700000</td>\n",
       "      <td>0.190000</td>\n",
       "    </tr>\n",
       "    <tr>\n",
       "      <th>12</th>\n",
       "      <td>RidgeClassifier</td>\n",
       "      <td>72.340000</td>\n",
       "      <td>72.580000</td>\n",
       "      <td>0.240000</td>\n",
       "    </tr>\n",
       "    <tr>\n",
       "      <th>0</th>\n",
       "      <td>Logistic Regression</td>\n",
       "      <td>71.654585</td>\n",
       "      <td>71.939108</td>\n",
       "      <td>0.284523</td>\n",
       "    </tr>\n",
       "    <tr>\n",
       "      <th>2</th>\n",
       "      <td>Linear SVC</td>\n",
       "      <td>72.374049</td>\n",
       "      <td>72.729250</td>\n",
       "      <td>0.355201</td>\n",
       "    </tr>\n",
       "    <tr>\n",
       "      <th>7</th>\n",
       "      <td>Decision Tree Classifier</td>\n",
       "      <td>72.676694</td>\n",
       "      <td>73.127945</td>\n",
       "      <td>0.451250</td>\n",
       "    </tr>\n",
       "    <tr>\n",
       "      <th>6</th>\n",
       "      <td>Stochastic Gradient Decent</td>\n",
       "      <td>69.550000</td>\n",
       "      <td>70.090000</td>\n",
       "      <td>0.540000</td>\n",
       "    </tr>\n",
       "    <tr>\n",
       "      <th>5</th>\n",
       "      <td>Perceptron</td>\n",
       "      <td>63.300109</td>\n",
       "      <td>62.587894</td>\n",
       "      <td>0.712215</td>\n",
       "    </tr>\n",
       "    <tr>\n",
       "      <th>1</th>\n",
       "      <td>Support Vector Machines</td>\n",
       "      <td>61.495107</td>\n",
       "      <td>60.724900</td>\n",
       "      <td>0.770207</td>\n",
       "    </tr>\n",
       "    <tr>\n",
       "      <th>3</th>\n",
       "      <td>k-Nearest Neighbors</td>\n",
       "      <td>72.133019</td>\n",
       "      <td>70.598043</td>\n",
       "      <td>1.534976</td>\n",
       "    </tr>\n",
       "    <tr>\n",
       "      <th>10</th>\n",
       "      <td>LGBMClassifier</td>\n",
       "      <td>80.120000</td>\n",
       "      <td>72.950000</td>\n",
       "      <td>7.170000</td>\n",
       "    </tr>\n",
       "    <tr>\n",
       "      <th>9</th>\n",
       "      <td>XGBClassifier</td>\n",
       "      <td>83.520000</td>\n",
       "      <td>72.820000</td>\n",
       "      <td>10.700000</td>\n",
       "    </tr>\n",
       "    <tr>\n",
       "      <th>11</th>\n",
       "      <td>GradientBoostingClassifier</td>\n",
       "      <td>87.530000</td>\n",
       "      <td>72.350000</td>\n",
       "      <td>15.180000</td>\n",
       "    </tr>\n",
       "    <tr>\n",
       "      <th>8</th>\n",
       "      <td>Random Forest</td>\n",
       "      <td>99.981877</td>\n",
       "      <td>71.815875</td>\n",
       "      <td>28.166002</td>\n",
       "    </tr>\n",
       "    <tr>\n",
       "      <th>13</th>\n",
       "      <td>BaggingClassifier</td>\n",
       "      <td>97.950000</td>\n",
       "      <td>69.240000</td>\n",
       "      <td>28.710000</td>\n",
       "    </tr>\n",
       "  </tbody>\n",
       "</table>\n",
       "</div>"
      ],
      "text/plain": [
       "                         Model  Score_train  Score_test  Score_diff\n",
       "4                  Naive Bayes    70.266401   70.264589    0.001812\n",
       "14        ExtraTreesClassifier    70.510000   70.700000    0.190000\n",
       "12             RidgeClassifier    72.340000   72.580000    0.240000\n",
       "0          Logistic Regression    71.654585   71.939108    0.284523\n",
       "2                   Linear SVC    72.374049   72.729250    0.355201\n",
       "7     Decision Tree Classifier    72.676694   73.127945    0.451250\n",
       "6   Stochastic Gradient Decent    69.550000   70.090000    0.540000\n",
       "5                   Perceptron    63.300109   62.587894    0.712215\n",
       "1      Support Vector Machines    61.495107   60.724900    0.770207\n",
       "3          k-Nearest Neighbors    72.133019   70.598043    1.534976\n",
       "10              LGBMClassifier    80.120000   72.950000    7.170000\n",
       "9                XGBClassifier    83.520000   72.820000   10.700000\n",
       "11  GradientBoostingClassifier    87.530000   72.350000   15.180000\n",
       "8                Random Forest    99.981877   71.815875   28.166002\n",
       "13           BaggingClassifier    97.950000   69.240000   28.710000"
      ]
     },
     "execution_count": 114,
     "metadata": {
      "tags": []
     },
     "output_type": "execute_result"
    }
   ],
   "source": [
    "models['Score_diff'] = abs(models['Score_train'] - models['Score_test'])\n",
    "models.sort_values(by=['Score_diff'], ascending=True)"
   ]
  },
  {
   "cell_type": "code",
   "execution_count": 115,
   "metadata": {
    "colab": {
     "base_uri": "https://localhost:8080/",
     "height": 516
    },
    "colab_type": "code",
    "id": "eCFz0SZLqhjk",
    "outputId": "4ab78a8a-a62a-4edc-fbac-afead437b3f9"
   },
   "outputs": [
    {
     "data": {
      "image/png": "[encoded data removed]",
      "text/plain": [
       "<Figure size 1800x432 with 1 Axes>"
      ]
     },
     "metadata": {
      "needs_background": "light",
      "tags": []
     },
     "output_type": "display_data"
    }
   ],
   "source": [
    "# Plot\n",
    "plt.figure(figsize=[25,6])\n",
    "xx = models['Model']\n",
    "plt.tick_params(labelsize=14)\n",
    "plt.plot(xx, models['Score_train'], label = 'Score_train')\n",
    "plt.plot(xx, models['Score_test'], label = 'Score_test')\n",
    "plt.legend()\n",
    "plt.title('Score of 20 popular models for train and test datasets')\n",
    "plt.xlabel('Models')\n",
    "plt.ylabel('Score, %')\n",
    "plt.xticks(xx, rotation='vertical')\n",
    "plt.savefig('graph.png')\n",
    "plt.show()"
   ]
  },
  {
   "cell_type": "code",
   "execution_count": 100,
   "metadata": {
    "colab": {},
    "colab_type": "code",
    "id": "kA-SCo8b1V-E"
   },
   "outputs": [],
   "source": []
  }
 ],
 "metadata": {
  "colab": {
   "collapsed_sections": [],
   "name": "Heart-disease-Prediction.ipynb",
   "provenance": []
  },
  "kernelspec": {
   "display_name": "Python 3",
   "language": "python",
   "name": "python3"
  },
  "language_info": {
   "codemirror_mode": {
    "name": "ipython",
    "version": 3
   },
   "file_extension": ".py",
   "mimetype": "text/x-python",
   "name": "python",
   "nbconvert_exporter": "python",
   "pygments_lexer": "ipython3",
   "version": "3.7.6"
  }
 },
 "nbformat": 4,
 "nbformat_minor": 1
}
