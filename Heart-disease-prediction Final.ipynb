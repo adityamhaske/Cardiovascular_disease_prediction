{
  "nbformat": 4,
  "nbformat_minor": 0,
  "metadata": {
    "kernelspec": {
      "display_name": "Python 3",
      "language": "python",
      "name": "python3"
    },
    "language_info": {
      "codemirror_mode": {
        "name": "ipython",
        "version": 3
      },
      "file_extension": ".py",
      "mimetype": "text/x-python",
      "name": "python",
      "nbconvert_exporter": "python",
      "pygments_lexer": "ipython3",
      "version": "3.7.6"
    },
    "colab": {
      "name": "HDP.ipynb",
      "provenance": []
    }
  },
  "cells": [
    {
      "cell_type": "markdown",
      "metadata": {
        "id": "A7T6Ct9Xqhf0",
        "colab_type": "text"
      },
      "source": [
        "<a class=\"anchor\" id=\"0\"></a>\n",
        "\n",
        "# FE, tuning and comparison of the 8 popular models for Cardiovascular Disease prediction"
      ]
    },
    {
      "cell_type": "markdown",
      "metadata": {
        "id": "k1MBT4cdqhf2",
        "colab_type": "text"
      },
      "source": [
        "Build of the 8 models, the most complex models from them are tuned (optimized)\n",
        "\n",
        "Comparison of the optimal for each type models."
      ]
    },
    {
      "cell_type": "markdown",
      "metadata": {
        "id": "r0H2WxpUqhf4",
        "colab_type": "text"
      },
      "source": [
        "<a class=\"anchor\" id=\"0.1\"></a>\n",
        "\n",
        "## Table of Contents\n",
        "\n",
        "1. [Import libraries](#1)\n",
        "1. [Download datasets](#2)\n",
        "1. [EDA](#3)\n",
        "1. [Preparing to modeling](#4)\n",
        "1. [Tuning models and test for all 16 features](#5)\n",
        "    -  [Logistic Regression](#5.1)\n",
        "    -  [Support Vector Machines](#5.2)\n",
        "    -  [Linear SVC](#5.3)\n",
        "    -  [k-Nearest Neighbors algorithm with GridSearchCV](#5.4)\n",
        "    -  [Naive Bayes](#5.5)\n",
        "    -  [Perceptron](#5.6)\n",
        "    -  [Decision Tree Classifier](#5.7)\n",
        "    -  [Random Forests with GridSearchCV](#5.8) \n",
        "1. [Models evaluation](#6)"
      ]
    },
    {
      "cell_type": "markdown",
      "metadata": {
        "id": "XLQuKUBzqhf5",
        "colab_type": "text"
      },
      "source": [
        "## 1. Import libraries <a class=\"anchor\" id=\"1\"></a>\n",
        "\n",
        "[Back to Table of Contents](#0.1)"
      ]
    },
    {
      "cell_type": "code",
      "metadata": {
        "_cell_guid": "b1076dfc-b9ad-4769-8c92-a6c4dae69d19",
        "_uuid": "8f2839f25d086af736a60e9eeb907d3b93b6e0e5",
        "id": "4QmoBHUIqhf6",
        "colab_type": "code",
        "colab": {}
      },
      "source": [
        "import numpy as np\n",
        "import pandas as pd\n",
        "import matplotlib.pyplot as plt\n",
        "%matplotlib inline\n",
        "\n",
        "# preprocessing\n",
        "from sklearn.preprocessing import LabelEncoder\n",
        "from sklearn.model_selection import train_test_split, cross_val_score, GridSearchCV\n",
        "\n",
        "# models\n",
        "from sklearn.linear_model import LogisticRegression, Perceptron\n",
        "from sklearn.svm import SVC, LinearSVC\n",
        "from sklearn.ensemble import RandomForestClassifier\n",
        "from sklearn.neighbors import KNeighborsClassifier\n",
        "from sklearn.naive_bayes import GaussianNB\n",
        "from sklearn.tree import DecisionTreeClassifier\n",
        "from sklearn import metrics\n",
        "\n",
        "from warnings import simplefilter\n",
        "# ignore all future warnings\n",
        "simplefilter(action='ignore', category=FutureWarning)"
      ],
      "execution_count": 108,
      "outputs": []
    },
    {
      "cell_type": "markdown",
      "metadata": {
        "id": "-xfqGwkIqhgB",
        "colab_type": "text"
      },
      "source": [
        "## 2. Download datasets <a class=\"anchor\" id=\"2\"></a>\n",
        "\n",
        "[Back to Table of Contents](#0.1)"
      ]
    },
    {
      "cell_type": "code",
      "metadata": {
        "id": "Tx45vPcbrZ47",
        "colab_type": "code",
        "colab": {}
      },
      "source": [
        "#from google.colab import files\n",
        "#uploaded = files.upload()"
      ],
      "execution_count": 109,
      "outputs": []
    },
    {
      "cell_type": "code",
      "metadata": {
        "id": "MOiOz1qVqhgC",
        "colab_type": "code",
        "colab": {}
      },
      "source": [
        "data = pd.read_csv(\"cardio_train.csv\", sep=\";\")"
      ],
      "execution_count": 110,
      "outputs": []
    },
    {
      "cell_type": "code",
      "metadata": {
        "id": "zqjITNStqhgI",
        "colab_type": "code",
        "colab": {
          "base_uri": "https://localhost:8080/",
          "height": 34
        },
        "outputId": "e88b5b0d-a569-46ef-d06d-e9a87b9b6c33"
      },
      "source": [
        "# FE - thanks to: https://www.kaggle.com/benanakca/comparison-of-classification-disease-prediction\n",
        "data.drop(\"id\",axis=1,inplace=True)\n",
        "data.drop_duplicates(inplace=True)\n",
        "data[\"bmi\"] = data[\"weight\"] / (data[\"height\"]/100)**2\n",
        "out_filter = ((data[\"ap_hi\"]>250) | (data[\"ap_lo\"]>200))\n",
        "data = data[~out_filter]\n",
        "len(data)"
      ],
      "execution_count": 111,
      "outputs": [
        {
          "output_type": "execute_result",
          "data": {
            "text/plain": [
              "68983"
            ]
          },
          "metadata": {
            "tags": []
          },
          "execution_count": 111
        }
      ]
    },
    {
      "cell_type": "code",
      "metadata": {
        "id": "BSPes0ZYqhgQ",
        "colab_type": "code",
        "colab": {}
      },
      "source": [
        "out_filter2 = ((data[\"ap_hi\"] < 0) | (data[\"ap_lo\"] < 0))\n",
        "data = data[~out_filter2]"
      ],
      "execution_count": 112,
      "outputs": []
    },
    {
      "cell_type": "code",
      "metadata": {
        "id": "j4C3WcYnqhgX",
        "colab_type": "code",
        "colab": {
          "base_uri": "https://localhost:8080/",
          "height": 136
        },
        "outputId": "44024358-babd-4cb6-f40a-d5eba57e7695"
      },
      "source": [
        "data.head(3)"
      ],
      "execution_count": 113,
      "outputs": [
        {
          "output_type": "execute_result",
          "data": {
            "text/html": [
              "<div>\n",
              "<style scoped>\n",
              "    .dataframe tbody tr th:only-of-type {\n",
              "        vertical-align: middle;\n",
              "    }\n",
              "\n",
              "    .dataframe tbody tr th {\n",
              "        vertical-align: top;\n",
              "    }\n",
              "\n",
              "    .dataframe thead th {\n",
              "        text-align: right;\n",
              "    }\n",
              "</style>\n",
              "<table border=\"1\" class=\"dataframe\">\n",
              "  <thead>\n",
              "    <tr style=\"text-align: right;\">\n",
              "      <th></th>\n",
              "      <th>age</th>\n",
              "      <th>gender</th>\n",
              "      <th>height</th>\n",
              "      <th>weight</th>\n",
              "      <th>ap_hi</th>\n",
              "      <th>ap_lo</th>\n",
              "      <th>cholesterol</th>\n",
              "      <th>gluc</th>\n",
              "      <th>smoke</th>\n",
              "      <th>alco</th>\n",
              "      <th>active</th>\n",
              "      <th>cardio</th>\n",
              "      <th>bmi</th>\n",
              "    </tr>\n",
              "  </thead>\n",
              "  <tbody>\n",
              "    <tr>\n",
              "      <th>0</th>\n",
              "      <td>18393</td>\n",
              "      <td>2</td>\n",
              "      <td>168</td>\n",
              "      <td>62.0</td>\n",
              "      <td>110</td>\n",
              "      <td>80</td>\n",
              "      <td>1</td>\n",
              "      <td>1</td>\n",
              "      <td>0</td>\n",
              "      <td>0</td>\n",
              "      <td>1</td>\n",
              "      <td>0</td>\n",
              "      <td>21.967120</td>\n",
              "    </tr>\n",
              "    <tr>\n",
              "      <th>1</th>\n",
              "      <td>20228</td>\n",
              "      <td>1</td>\n",
              "      <td>156</td>\n",
              "      <td>85.0</td>\n",
              "      <td>140</td>\n",
              "      <td>90</td>\n",
              "      <td>3</td>\n",
              "      <td>1</td>\n",
              "      <td>0</td>\n",
              "      <td>0</td>\n",
              "      <td>1</td>\n",
              "      <td>1</td>\n",
              "      <td>34.927679</td>\n",
              "    </tr>\n",
              "    <tr>\n",
              "      <th>2</th>\n",
              "      <td>18857</td>\n",
              "      <td>1</td>\n",
              "      <td>165</td>\n",
              "      <td>64.0</td>\n",
              "      <td>130</td>\n",
              "      <td>70</td>\n",
              "      <td>3</td>\n",
              "      <td>1</td>\n",
              "      <td>0</td>\n",
              "      <td>0</td>\n",
              "      <td>0</td>\n",
              "      <td>1</td>\n",
              "      <td>23.507805</td>\n",
              "    </tr>\n",
              "  </tbody>\n",
              "</table>\n",
              "</div>"
            ],
            "text/plain": [
              "     age  gender  height  weight  ap_hi  ...  smoke  alco  active  cardio        bmi\n",
              "0  18393       2     168    62.0    110  ...      0     0       1       0  21.967120\n",
              "1  20228       1     156    85.0    140  ...      0     0       1       1  34.927679\n",
              "2  18857       1     165    64.0    130  ...      0     0       0       1  23.507805\n",
              "\n",
              "[3 rows x 13 columns]"
            ]
          },
          "metadata": {
            "tags": []
          },
          "execution_count": 113
        }
      ]
    },
    {
      "cell_type": "code",
      "metadata": {
        "id": "CZjO2cpuqhga",
        "colab_type": "code",
        "colab": {
          "base_uri": "https://localhost:8080/",
          "height": 353
        },
        "outputId": "43de0695-ae53-4337-a42f-828ac145a575"
      },
      "source": [
        "data.info()"
      ],
      "execution_count": 114,
      "outputs": [
        {
          "output_type": "stream",
          "text": [
            "<class 'pandas.core.frame.DataFrame'>\n",
            "Int64Index: 68975 entries, 0 to 69999\n",
            "Data columns (total 13 columns):\n",
            " #   Column       Non-Null Count  Dtype  \n",
            "---  ------       --------------  -----  \n",
            " 0   age          68975 non-null  int64  \n",
            " 1   gender       68975 non-null  int64  \n",
            " 2   height       68975 non-null  int64  \n",
            " 3   weight       68975 non-null  float64\n",
            " 4   ap_hi        68975 non-null  int64  \n",
            " 5   ap_lo        68975 non-null  int64  \n",
            " 6   cholesterol  68975 non-null  int64  \n",
            " 7   gluc         68975 non-null  int64  \n",
            " 8   smoke        68975 non-null  int64  \n",
            " 9   alco         68975 non-null  int64  \n",
            " 10  active       68975 non-null  int64  \n",
            " 11  cardio       68975 non-null  int64  \n",
            " 12  bmi          68975 non-null  float64\n",
            "dtypes: float64(2), int64(11)\n",
            "memory usage: 7.4 MB\n"
          ],
          "name": "stdout"
        }
      ]
    },
    {
      "cell_type": "markdown",
      "metadata": {
        "id": "D4dxJQvCqhgh",
        "colab_type": "text"
      },
      "source": [
        "## 3. EDA <a class=\"anchor\" id=\"3\"></a>\n",
        "\n",
        "[Back to Table of Contents](#0.1)"
      ]
    },
    {
      "cell_type": "markdown",
      "metadata": {
        "id": "OxvHPlfvqhgi",
        "colab_type": "text"
      },
      "source": [
        "This code is based on my kernel \"[FE & EDA with Pandas Profiling](https://www.kaggle.com/vbmokin/fe-eda-with-pandas-profiling)\""
      ]
    },
    {
      "cell_type": "code",
      "metadata": {
        "id": "g0ZOIQvNqhgk",
        "colab_type": "code",
        "colab": {}
      },
      "source": [
        ""
      ],
      "execution_count": 114,
      "outputs": []
    },
    {
      "cell_type": "markdown",
      "metadata": {
        "id": "ohHWeo_Aqhgp",
        "colab_type": "text"
      },
      "source": [
        "## 4. Preparing to modeling <a class=\"anchor\" id=\"4\"></a>\n",
        "\n",
        "[Back to Table of Contents](#0.1)"
      ]
    },
    {
      "cell_type": "code",
      "metadata": {
        "id": "oPIzMcPfqhgq",
        "colab_type": "code",
        "colab": {}
      },
      "source": [
        "target_name = 'cardio'\n",
        "data_target = data[target_name]\n",
        "data = data.drop([target_name], axis=1)"
      ],
      "execution_count": 115,
      "outputs": []
    },
    {
      "cell_type": "markdown",
      "metadata": {
        "id": "EBUbO6fSqhgv",
        "colab_type": "text"
      },
      "source": [
        "I split data on 30% in the test dataset, the remaining 70% - in the training dataset"
      ]
    },
    {
      "cell_type": "code",
      "metadata": {
        "id": "nldbL4MEqhgw",
        "colab_type": "code",
        "colab": {}
      },
      "source": [
        "train, test, target, target_test = train_test_split(data, data_target, test_size=0.2, random_state=0)"
      ],
      "execution_count": 116,
      "outputs": []
    },
    {
      "cell_type": "code",
      "metadata": {
        "id": "xCt__Kouqhg6",
        "colab_type": "code",
        "colab": {
          "base_uri": "https://localhost:8080/",
          "height": 136
        },
        "outputId": "e41b8ae5-a551-42ed-e88b-e56d8947c7e0"
      },
      "source": [
        "train.head(3)"
      ],
      "execution_count": 117,
      "outputs": [
        {
          "output_type": "execute_result",
          "data": {
            "text/html": [
              "<div>\n",
              "<style scoped>\n",
              "    .dataframe tbody tr th:only-of-type {\n",
              "        vertical-align: middle;\n",
              "    }\n",
              "\n",
              "    .dataframe tbody tr th {\n",
              "        vertical-align: top;\n",
              "    }\n",
              "\n",
              "    .dataframe thead th {\n",
              "        text-align: right;\n",
              "    }\n",
              "</style>\n",
              "<table border=\"1\" class=\"dataframe\">\n",
              "  <thead>\n",
              "    <tr style=\"text-align: right;\">\n",
              "      <th></th>\n",
              "      <th>age</th>\n",
              "      <th>gender</th>\n",
              "      <th>height</th>\n",
              "      <th>weight</th>\n",
              "      <th>ap_hi</th>\n",
              "      <th>ap_lo</th>\n",
              "      <th>cholesterol</th>\n",
              "      <th>gluc</th>\n",
              "      <th>smoke</th>\n",
              "      <th>alco</th>\n",
              "      <th>active</th>\n",
              "      <th>bmi</th>\n",
              "    </tr>\n",
              "  </thead>\n",
              "  <tbody>\n",
              "    <tr>\n",
              "      <th>31684</th>\n",
              "      <td>21263</td>\n",
              "      <td>2</td>\n",
              "      <td>160</td>\n",
              "      <td>76.0</td>\n",
              "      <td>130</td>\n",
              "      <td>80</td>\n",
              "      <td>1</td>\n",
              "      <td>1</td>\n",
              "      <td>0</td>\n",
              "      <td>1</td>\n",
              "      <td>1</td>\n",
              "      <td>29.687500</td>\n",
              "    </tr>\n",
              "    <tr>\n",
              "      <th>5634</th>\n",
              "      <td>14684</td>\n",
              "      <td>2</td>\n",
              "      <td>184</td>\n",
              "      <td>70.0</td>\n",
              "      <td>120</td>\n",
              "      <td>80</td>\n",
              "      <td>1</td>\n",
              "      <td>1</td>\n",
              "      <td>0</td>\n",
              "      <td>0</td>\n",
              "      <td>1</td>\n",
              "      <td>20.675803</td>\n",
              "    </tr>\n",
              "    <tr>\n",
              "      <th>58675</th>\n",
              "      <td>23436</td>\n",
              "      <td>1</td>\n",
              "      <td>158</td>\n",
              "      <td>76.0</td>\n",
              "      <td>120</td>\n",
              "      <td>80</td>\n",
              "      <td>1</td>\n",
              "      <td>1</td>\n",
              "      <td>0</td>\n",
              "      <td>0</td>\n",
              "      <td>1</td>\n",
              "      <td>30.443839</td>\n",
              "    </tr>\n",
              "  </tbody>\n",
              "</table>\n",
              "</div>"
            ],
            "text/plain": [
              "         age  gender  height  weight  ...  smoke  alco  active        bmi\n",
              "31684  21263       2     160    76.0  ...      0     1       1  29.687500\n",
              "5634   14684       2     184    70.0  ...      0     0       1  20.675803\n",
              "58675  23436       1     158    76.0  ...      0     0       1  30.443839\n",
              "\n",
              "[3 rows x 12 columns]"
            ]
          },
          "metadata": {
            "tags": []
          },
          "execution_count": 117
        }
      ]
    },
    {
      "cell_type": "code",
      "metadata": {
        "id": "A1Axik70qhg_",
        "colab_type": "code",
        "colab": {
          "base_uri": "https://localhost:8080/",
          "height": 136
        },
        "outputId": "36ef7221-6805-4153-a908-bde9d4d7d478"
      },
      "source": [
        "test.head(3)"
      ],
      "execution_count": 118,
      "outputs": [
        {
          "output_type": "execute_result",
          "data": {
            "text/html": [
              "<div>\n",
              "<style scoped>\n",
              "    .dataframe tbody tr th:only-of-type {\n",
              "        vertical-align: middle;\n",
              "    }\n",
              "\n",
              "    .dataframe tbody tr th {\n",
              "        vertical-align: top;\n",
              "    }\n",
              "\n",
              "    .dataframe thead th {\n",
              "        text-align: right;\n",
              "    }\n",
              "</style>\n",
              "<table border=\"1\" class=\"dataframe\">\n",
              "  <thead>\n",
              "    <tr style=\"text-align: right;\">\n",
              "      <th></th>\n",
              "      <th>age</th>\n",
              "      <th>gender</th>\n",
              "      <th>height</th>\n",
              "      <th>weight</th>\n",
              "      <th>ap_hi</th>\n",
              "      <th>ap_lo</th>\n",
              "      <th>cholesterol</th>\n",
              "      <th>gluc</th>\n",
              "      <th>smoke</th>\n",
              "      <th>alco</th>\n",
              "      <th>active</th>\n",
              "      <th>bmi</th>\n",
              "    </tr>\n",
              "  </thead>\n",
              "  <tbody>\n",
              "    <tr>\n",
              "      <th>51756</th>\n",
              "      <td>20272</td>\n",
              "      <td>1</td>\n",
              "      <td>161</td>\n",
              "      <td>75.0</td>\n",
              "      <td>120</td>\n",
              "      <td>80</td>\n",
              "      <td>1</td>\n",
              "      <td>1</td>\n",
              "      <td>0</td>\n",
              "      <td>0</td>\n",
              "      <td>1</td>\n",
              "      <td>28.934069</td>\n",
              "    </tr>\n",
              "    <tr>\n",
              "      <th>9378</th>\n",
              "      <td>21872</td>\n",
              "      <td>1</td>\n",
              "      <td>175</td>\n",
              "      <td>70.0</td>\n",
              "      <td>120</td>\n",
              "      <td>70</td>\n",
              "      <td>1</td>\n",
              "      <td>1</td>\n",
              "      <td>0</td>\n",
              "      <td>0</td>\n",
              "      <td>1</td>\n",
              "      <td>22.857143</td>\n",
              "    </tr>\n",
              "    <tr>\n",
              "      <th>5060</th>\n",
              "      <td>18140</td>\n",
              "      <td>1</td>\n",
              "      <td>165</td>\n",
              "      <td>65.0</td>\n",
              "      <td>120</td>\n",
              "      <td>80</td>\n",
              "      <td>2</td>\n",
              "      <td>2</td>\n",
              "      <td>0</td>\n",
              "      <td>0</td>\n",
              "      <td>1</td>\n",
              "      <td>23.875115</td>\n",
              "    </tr>\n",
              "  </tbody>\n",
              "</table>\n",
              "</div>"
            ],
            "text/plain": [
              "         age  gender  height  weight  ...  smoke  alco  active        bmi\n",
              "51756  20272       1     161    75.0  ...      0     0       1  28.934069\n",
              "9378   21872       1     175    70.0  ...      0     0       1  22.857143\n",
              "5060   18140       1     165    65.0  ...      0     0       1  23.875115\n",
              "\n",
              "[3 rows x 12 columns]"
            ]
          },
          "metadata": {
            "tags": []
          },
          "execution_count": 118
        }
      ]
    },
    {
      "cell_type": "code",
      "metadata": {
        "id": "mp7jb2_BqhhD",
        "colab_type": "code",
        "colab": {
          "base_uri": "https://localhost:8080/",
          "height": 336
        },
        "outputId": "c6c0e05e-e112-4bcd-d8c1-ad8622b59381"
      },
      "source": [
        "train.info()"
      ],
      "execution_count": 119,
      "outputs": [
        {
          "output_type": "stream",
          "text": [
            "<class 'pandas.core.frame.DataFrame'>\n",
            "Int64Index: 55180 entries, 31684 to 69281\n",
            "Data columns (total 12 columns):\n",
            " #   Column       Non-Null Count  Dtype  \n",
            "---  ------       --------------  -----  \n",
            " 0   age          55180 non-null  int64  \n",
            " 1   gender       55180 non-null  int64  \n",
            " 2   height       55180 non-null  int64  \n",
            " 3   weight       55180 non-null  float64\n",
            " 4   ap_hi        55180 non-null  int64  \n",
            " 5   ap_lo        55180 non-null  int64  \n",
            " 6   cholesterol  55180 non-null  int64  \n",
            " 7   gluc         55180 non-null  int64  \n",
            " 8   smoke        55180 non-null  int64  \n",
            " 9   alco         55180 non-null  int64  \n",
            " 10  active       55180 non-null  int64  \n",
            " 11  bmi          55180 non-null  float64\n",
            "dtypes: float64(2), int64(10)\n",
            "memory usage: 5.5 MB\n"
          ],
          "name": "stdout"
        }
      ]
    },
    {
      "cell_type": "code",
      "metadata": {
        "id": "XFG7ZLqjqhhJ",
        "colab_type": "code",
        "colab": {
          "base_uri": "https://localhost:8080/",
          "height": 336
        },
        "outputId": "e136ff1d-1618-4298-f3bd-31b2c63466a6"
      },
      "source": [
        "test.info()"
      ],
      "execution_count": 120,
      "outputs": [
        {
          "output_type": "stream",
          "text": [
            "<class 'pandas.core.frame.DataFrame'>\n",
            "Int64Index: 13795 entries, 51756 to 61199\n",
            "Data columns (total 12 columns):\n",
            " #   Column       Non-Null Count  Dtype  \n",
            "---  ------       --------------  -----  \n",
            " 0   age          13795 non-null  int64  \n",
            " 1   gender       13795 non-null  int64  \n",
            " 2   height       13795 non-null  int64  \n",
            " 3   weight       13795 non-null  float64\n",
            " 4   ap_hi        13795 non-null  int64  \n",
            " 5   ap_lo        13795 non-null  int64  \n",
            " 6   cholesterol  13795 non-null  int64  \n",
            " 7   gluc         13795 non-null  int64  \n",
            " 8   smoke        13795 non-null  int64  \n",
            " 9   alco         13795 non-null  int64  \n",
            " 10  active       13795 non-null  int64  \n",
            " 11  bmi          13795 non-null  float64\n",
            "dtypes: float64(2), int64(10)\n",
            "memory usage: 1.4 MB\n"
          ],
          "name": "stdout"
        }
      ]
    },
    {
      "cell_type": "code",
      "metadata": {
        "id": "7T5bmJl7qhhP",
        "colab_type": "code",
        "colab": {}
      },
      "source": [
        "#%% split training set to validation set\n",
        "Xtrain, Xval, Ztrain, Zval = train_test_split(train, target, test_size=0.2, random_state=0)"
      ],
      "execution_count": 121,
      "outputs": []
    },
    {
      "cell_type": "markdown",
      "metadata": {
        "id": "QIsQD0LHqhhY",
        "colab_type": "text"
      },
      "source": [
        "## 5. Tuning models and test for all features <a class=\"anchor\" id=\"5\"></a>\n",
        "\n",
        "[Back to Table of Contents](#0.1)"
      ]
    },
    {
      "cell_type": "markdown",
      "metadata": {
        "id": "NfCGIrDlqhhY",
        "colab_type": "text"
      },
      "source": [
        "Thanks to https://www.kaggle.com/startupsci/titanic-data-science-solutions\n",
        "\n",
        "Now we are ready to train a model and predict the required solution. There are 60+ predictive modelling algorithms to choose from. We must understand the type of problem and solution requirement to narrow down to a select few models which we can evaluate. Our problem is a classification and regression problem. We want to identify relationship between output (Survived or not) with other variables or features (Gender, Age, Port...). We are also perfoming a category of machine learning which is called supervised learning as we are training our model with a given dataset. With these two criteria - Supervised Learning plus Classification and Regression, we can narrow down our choice of models to a few. These include:\n",
        "\n",
        "- Logistic Regression\n",
        "- Support Vector Machines and Linear SVC\n",
        "- KNN or k-Nearest Neighbors\n",
        "- Naive Bayes Classifier or Gaussian Naive Bayes\n",
        "- Stochastic Gradient Descent, GradientBoostingClassifier, RidgeClassifier, BaggingClassifier\n",
        "- Decision Tree Classifier, Random Forest, XGB Classifier, LGBM Classifier, ExtraTreesClassifier\n",
        "- Perceptron, Neural Networks with different archictures (Deep Learning)\n",
        "- VotingClassifier (hard or soft voting)"
      ]
    },
    {
      "cell_type": "markdown",
      "metadata": {
        "id": "bIk-x11Eqhhb",
        "colab_type": "text"
      },
      "source": [
        "### 5.1 Logistic Regression <a class=\"anchor\" id=\"5.1\"></a>\n",
        "\n",
        "[Back to Table of Contents](#0.1)"
      ]
    },
    {
      "cell_type": "markdown",
      "metadata": {
        "id": "t9wKPTorqhhc",
        "colab_type": "text"
      },
      "source": [
        "**Logistic Regression** is a useful model to run early in the workflow. Logistic regression measures the relationship between the categorical dependent variable (feature) and one or more independent variables (features) by estimating probabilities using a logistic function, which is the cumulative logistic distribution. Reference [Wikipedia](https://en.wikipedia.org/wiki/Logistic_regression).\n",
        "\n",
        "Note the confidence score generated by the model based on our training dataset."
      ]
    },
    {
      "cell_type": "code",
      "metadata": {
        "id": "sOTDYpYfqhhc",
        "colab_type": "code",
        "colab": {
          "base_uri": "https://localhost:8080/",
          "height": 34
        },
        "outputId": "f43233b7-2d15-4e0d-e85c-5d576c5198ec"
      },
      "source": [
        "# Logistic Regression\n",
        "\n",
        "logreg = LogisticRegression()\n",
        "logreg.fit(train, target)\n",
        "acc_log = round(logreg.score(train, target) * 100, 2)\n",
        "acc_log"
      ],
      "execution_count": 122,
      "outputs": [
        {
          "output_type": "execute_result",
          "data": {
            "text/plain": [
              "71.65"
            ]
          },
          "metadata": {
            "tags": []
          },
          "execution_count": 122
        }
      ]
    },
    {
      "cell_type": "code",
      "metadata": {
        "id": "5DiCXfUCqhhj",
        "colab_type": "code",
        "colab": {
          "base_uri": "https://localhost:8080/",
          "height": 34
        },
        "outputId": "7fbb8f71-da73-49dc-cb0c-cd21594adb35"
      },
      "source": [
        "acc_test_log = round(logreg.score(test, target_test) * 100, 2)\n",
        "acc_test_log"
      ],
      "execution_count": 123,
      "outputs": [
        {
          "output_type": "execute_result",
          "data": {
            "text/plain": [
              "71.94"
            ]
          },
          "metadata": {
            "tags": []
          },
          "execution_count": 123
        }
      ]
    },
    {
      "cell_type": "markdown",
      "metadata": {
        "id": "y4I1ZWT7qhhp",
        "colab_type": "text"
      },
      "source": [
        "We can use Logistic Regression to validate our assumptions and decisions for feature creating and completing goals. This can be done by calculating the coefficient of the features in the decision function.\n",
        "\n",
        "Positive coefficients increase the log-odds of the response (and thus increase the probability), and negative coefficients decrease the log-odds of the response (and thus decrease the probability).\n",
        "\n",
        "- *gluc* is highest coefficient\n",
        "- *height*, *smoke* are largest numbers by absolute value."
      ]
    },
    {
      "cell_type": "code",
      "metadata": {
        "id": "DTzOKEKsqhhq",
        "colab_type": "code",
        "colab": {
          "base_uri": "https://localhost:8080/",
          "height": 373
        },
        "outputId": "a1b99282-3166-486e-faab-e1f010bd89ac"
      },
      "source": [
        "coeff_df = pd.DataFrame(train.columns.delete(0))\n",
        "coeff_df.columns = ['Feature']\n",
        "coeff_df[\"Correlation\"] = pd.Series(logreg.coef_[0])\n",
        "\n",
        "coeff_df.sort_values(by='Correlation', ascending=False)"
      ],
      "execution_count": 124,
      "outputs": [
        {
          "output_type": "execute_result",
          "data": {
            "text/html": [
              "<div>\n",
              "<style scoped>\n",
              "    .dataframe tbody tr th:only-of-type {\n",
              "        vertical-align: middle;\n",
              "    }\n",
              "\n",
              "    .dataframe tbody tr th {\n",
              "        vertical-align: top;\n",
              "    }\n",
              "\n",
              "    .dataframe thead th {\n",
              "        text-align: right;\n",
              "    }\n",
              "</style>\n",
              "<table border=\"1\" class=\"dataframe\">\n",
              "  <thead>\n",
              "    <tr style=\"text-align: right;\">\n",
              "      <th></th>\n",
              "      <th>Feature</th>\n",
              "      <th>Correlation</th>\n",
              "    </tr>\n",
              "  </thead>\n",
              "  <tbody>\n",
              "    <tr>\n",
              "      <th>3</th>\n",
              "      <td>ap_hi</td>\n",
              "      <td>0.073302</td>\n",
              "    </tr>\n",
              "    <tr>\n",
              "      <th>4</th>\n",
              "      <td>ap_lo</td>\n",
              "      <td>0.046179</td>\n",
              "    </tr>\n",
              "    <tr>\n",
              "      <th>6</th>\n",
              "      <td>gluc</td>\n",
              "      <td>0.034592</td>\n",
              "    </tr>\n",
              "    <tr>\n",
              "      <th>5</th>\n",
              "      <td>cholesterol</td>\n",
              "      <td>0.022192</td>\n",
              "    </tr>\n",
              "    <tr>\n",
              "      <th>1</th>\n",
              "      <td>height</td>\n",
              "      <td>0.008662</td>\n",
              "    </tr>\n",
              "    <tr>\n",
              "      <th>7</th>\n",
              "      <td>smoke</td>\n",
              "      <td>0.006287</td>\n",
              "    </tr>\n",
              "    <tr>\n",
              "      <th>8</th>\n",
              "      <td>alco</td>\n",
              "      <td>0.000304</td>\n",
              "    </tr>\n",
              "    <tr>\n",
              "      <th>0</th>\n",
              "      <td>gender</td>\n",
              "      <td>0.000149</td>\n",
              "    </tr>\n",
              "    <tr>\n",
              "      <th>9</th>\n",
              "      <td>active</td>\n",
              "      <td>-0.001312</td>\n",
              "    </tr>\n",
              "    <tr>\n",
              "      <th>10</th>\n",
              "      <td>bmi</td>\n",
              "      <td>-0.010062</td>\n",
              "    </tr>\n",
              "    <tr>\n",
              "      <th>2</th>\n",
              "      <td>weight</td>\n",
              "      <td>-0.071479</td>\n",
              "    </tr>\n",
              "  </tbody>\n",
              "</table>\n",
              "</div>"
            ],
            "text/plain": [
              "        Feature  Correlation\n",
              "3         ap_hi     0.073302\n",
              "4         ap_lo     0.046179\n",
              "6          gluc     0.034592\n",
              "5   cholesterol     0.022192\n",
              "1        height     0.008662\n",
              "7         smoke     0.006287\n",
              "8          alco     0.000304\n",
              "0        gender     0.000149\n",
              "9        active    -0.001312\n",
              "10          bmi    -0.010062\n",
              "2        weight    -0.071479"
            ]
          },
          "metadata": {
            "tags": []
          },
          "execution_count": 124
        }
      ]
    },
    {
      "cell_type": "markdown",
      "metadata": {
        "id": "P-rRxZ9Nqhht",
        "colab_type": "text"
      },
      "source": [
        "### 5.2 Support Vector Machines <a class=\"anchor\" id=\"5.2\"></a>\n",
        "\n",
        "[Back to Table of Contents](#0.1)"
      ]
    },
    {
      "cell_type": "markdown",
      "metadata": {
        "id": "1zz-QA33qhhu",
        "colab_type": "text"
      },
      "source": [
        "**Support Vector Machines** are supervised learning models with associated learning algorithms that analyze data used for classification and regression analysis. Given a set of training samples, each marked as belonging to one or the other of two categories, an SVM training algorithm builds a model that assigns new test samples to one category or the other, making it a non-probabilistic binary linear classifier. Reference [Wikipedia](https://en.wikipedia.org/wiki/Support_vector_machine)."
      ]
    },
    {
      "cell_type": "code",
      "metadata": {
        "id": "F7MtvE0Vqhhv",
        "colab_type": "code",
        "colab": {
          "base_uri": "https://localhost:8080/",
          "height": 34
        },
        "outputId": "043b10be-5084-418e-b1fd-1f322408de12"
      },
      "source": [
        "# Support Vector Machines\n",
        "\n",
        "svc = SVC()\n",
        "svc.fit(train, target)\n",
        "acc_svc = round(svc.score(train, target) * 100, 2)\n",
        "acc_svc"
      ],
      "execution_count": 125,
      "outputs": [
        {
          "output_type": "execute_result",
          "data": {
            "text/plain": [
              "60.22"
            ]
          },
          "metadata": {
            "tags": []
          },
          "execution_count": 125
        }
      ]
    },
    {
      "cell_type": "code",
      "metadata": {
        "id": "qMTrHbKJqhhy",
        "colab_type": "code",
        "colab": {
          "base_uri": "https://localhost:8080/",
          "height": 34
        },
        "outputId": "dc45a9fa-67d4-4df2-bc18-c1927ad55962"
      },
      "source": [
        "acc_test_svc = round(svc.score(test, target_test) * 100, 2)\n",
        "acc_test_svc"
      ],
      "execution_count": 126,
      "outputs": [
        {
          "output_type": "execute_result",
          "data": {
            "text/plain": [
              "59.41"
            ]
          },
          "metadata": {
            "tags": []
          },
          "execution_count": 126
        }
      ]
    },
    {
      "cell_type": "markdown",
      "metadata": {
        "id": "0gHLUZlpqhh0",
        "colab_type": "text"
      },
      "source": [
        "### 5.3 Linear SVC <a class=\"anchor\" id=\"5.3\"></a>\n",
        "\n",
        "[Back to Table of Contents](#0.1)"
      ]
    },
    {
      "cell_type": "markdown",
      "metadata": {
        "id": "-c1dJy9bqhh1",
        "colab_type": "text"
      },
      "source": [
        "**SVC** is a similar to SVM method. Its also builds on kernel functions but is appropriate for unsupervised learning. Reference [Wikipedia](https://en.wikipedia.org/wiki/Support-vector_machine#Support-vector_clustering_(SVC)."
      ]
    },
    {
      "cell_type": "code",
      "metadata": {
        "id": "XBR0R7Zcqhh1",
        "colab_type": "code",
        "colab": {
          "base_uri": "https://localhost:8080/",
          "height": 34
        },
        "outputId": "50ef78a0-a44a-4168-9ba9-ab81ca2806cd"
      },
      "source": [
        "# Linear SVC\n",
        "\n",
        "linear_svc = LinearSVC(dual=False)  # dual=False when n_samples > n_features.\n",
        "linear_svc.fit(train, target)\n",
        "acc_linear_svc = round(linear_svc.score(train, target) * 100, 2)\n",
        "acc_linear_svc"
      ],
      "execution_count": 127,
      "outputs": [
        {
          "output_type": "execute_result",
          "data": {
            "text/plain": [
              "72.11"
            ]
          },
          "metadata": {
            "tags": []
          },
          "execution_count": 127
        }
      ]
    },
    {
      "cell_type": "code",
      "metadata": {
        "id": "qMoHnJ4bqhh5",
        "colab_type": "code",
        "colab": {
          "base_uri": "https://localhost:8080/",
          "height": 34
        },
        "outputId": "cd970d04-2588-4d13-8e0e-65181cd9ba7f"
      },
      "source": [
        "acc_test_linear_svc = round(linear_svc.score(test, target_test) * 100, 2)\n",
        "acc_test_linear_svc"
      ],
      "execution_count": 128,
      "outputs": [
        {
          "output_type": "execute_result",
          "data": {
            "text/plain": [
              "72.71"
            ]
          },
          "metadata": {
            "tags": []
          },
          "execution_count": 128
        }
      ]
    },
    {
      "cell_type": "markdown",
      "metadata": {
        "id": "lBM76u-kqhh-",
        "colab_type": "text"
      },
      "source": [
        "### 5.4 k-Nearest Neighbors algorithm <a class=\"anchor\" id=\"5.4\"></a>\n",
        "\n",
        "[Back to Table of Contents](#0.1)"
      ]
    },
    {
      "cell_type": "markdown",
      "metadata": {
        "id": "PyTOL9iCqhh_",
        "colab_type": "text"
      },
      "source": [
        "In pattern recognition, the **k-Nearest Neighbors algorithm** (or k-NN for short) is a non-parametric method used for classification and regression. A sample is classified by a majority vote of its neighbors, with the sample being assigned to the class most common among its k nearest neighbors (k is a positive integer, typically small). Reference [Wikipedia](https://en.wikipedia.org/wiki/K-nearest_neighbors_algorithm)."
      ]
    },
    {
      "cell_type": "code",
      "metadata": {
        "id": "n6aF1zRIqhh_",
        "colab_type": "code",
        "colab": {
          "base_uri": "https://localhost:8080/",
          "height": 34
        },
        "outputId": "5e60c2f2-e1e8-420b-f1b0-58fc431c1119"
      },
      "source": [
        "# k-Nearest Neighbors algorithm\n",
        "\n",
        "knn = GridSearchCV(estimator=KNeighborsClassifier(), param_grid={'n_neighbors': [2, 3]}, cv=10).fit(train, target)\n",
        "acc_knn = round(knn.score(train, target) * 100, 2)\n",
        "print(acc_knn, knn.best_params_)"
      ],
      "execution_count": 129,
      "outputs": [
        {
          "output_type": "stream",
          "text": [
            "81.52 {'n_neighbors': 3}\n"
          ],
          "name": "stdout"
        }
      ]
    },
    {
      "cell_type": "code",
      "metadata": {
        "id": "oMwyYoHqqhiD",
        "colab_type": "code",
        "colab": {
          "base_uri": "https://localhost:8080/",
          "height": 34
        },
        "outputId": "10e1e7aa-4363-494c-c1df-cbed86d79cd9"
      },
      "source": [
        "acc_test_knn = round(knn.score(test, target_test) * 100, 2)\n",
        "acc_test_knn"
      ],
      "execution_count": 130,
      "outputs": [
        {
          "output_type": "execute_result",
          "data": {
            "text/plain": [
              "66.87"
            ]
          },
          "metadata": {
            "tags": []
          },
          "execution_count": 130
        }
      ]
    },
    {
      "cell_type": "markdown",
      "metadata": {
        "id": "TaszoLoAqhiH",
        "colab_type": "text"
      },
      "source": [
        "### 5.5 Naive Bayes <a class=\"anchor\" id=\"5.5\"></a>\n",
        "\n",
        "[Back to Table of Contents](#0.1)"
      ]
    },
    {
      "cell_type": "markdown",
      "metadata": {
        "id": "RD34-pVLqhiI",
        "colab_type": "text"
      },
      "source": [
        "In machine learning, **Naive Bayes classifiers** are a family of simple probabilistic classifiers based on applying Bayes' theorem with strong (naive) independence assumptions between the features. Naive Bayes classifiers are highly scalable, requiring a number of parameters linear in the number of variables (features) in a learning problem. Reference [Wikipedia](https://en.wikipedia.org/wiki/Naive_Bayes_classifier)."
      ]
    },
    {
      "cell_type": "code",
      "metadata": {
        "id": "cMW1cgymqhiI",
        "colab_type": "code",
        "colab": {
          "base_uri": "https://localhost:8080/",
          "height": 34
        },
        "outputId": "ed736023-3729-4c63-f8f6-4930eb7ccd51"
      },
      "source": [
        "# Gaussian Naive Bayes\n",
        "\n",
        "gaussian = GaussianNB()\n",
        "gaussian.fit(train, target)\n",
        "acc_gaussian = round(gaussian.score(train, target) * 100, 2)\n",
        "acc_gaussian"
      ],
      "execution_count": 131,
      "outputs": [
        {
          "output_type": "execute_result",
          "data": {
            "text/plain": [
              "70.27"
            ]
          },
          "metadata": {
            "tags": []
          },
          "execution_count": 131
        }
      ]
    },
    {
      "cell_type": "code",
      "metadata": {
        "id": "6nS9QEpwqhiO",
        "colab_type": "code",
        "colab": {
          "base_uri": "https://localhost:8080/",
          "height": 34
        },
        "outputId": "1c7257f4-6a2a-44d2-c541-f4022a10639d"
      },
      "source": [
        "acc_test_gaussian = round(gaussian.score(test, target_test) * 100, 2)\n",
        "acc_test_gaussian"
      ],
      "execution_count": 132,
      "outputs": [
        {
          "output_type": "execute_result",
          "data": {
            "text/plain": [
              "70.26"
            ]
          },
          "metadata": {
            "tags": []
          },
          "execution_count": 132
        }
      ]
    },
    {
      "cell_type": "markdown",
      "metadata": {
        "id": "eL4_xYw3qhiS",
        "colab_type": "text"
      },
      "source": [
        "### 5.6 Perceptron <a class=\"anchor\" id=\"5.6\"></a>\n",
        "\n",
        "[Back to Table of Contents](#0.1)"
      ]
    },
    {
      "cell_type": "markdown",
      "metadata": {
        "id": "XEm7CcLQqhiT",
        "colab_type": "text"
      },
      "source": [
        "The **Perceptron** is an algorithm for supervised learning of binary classifiers (functions that can decide whether an input, represented by a vector of numbers, belongs to some specific class or not). It is a type of linear classifier, i.e. a classification algorithm that makes its predictions based on a linear predictor function combining a set of weights with the feature vector. The algorithm allows for online learning, in that it processes elements in the training set one at a time. Reference [Wikipedia](https://en.wikipedia.org/wiki/Perceptron)."
      ]
    },
    {
      "cell_type": "code",
      "metadata": {
        "id": "YK9lzLJ-qhiU",
        "colab_type": "code",
        "colab": {
          "base_uri": "https://localhost:8080/",
          "height": 34
        },
        "outputId": "936a66dc-8472-4c15-d30e-bfd3b5288cb9"
      },
      "source": [
        "# Perceptron\n",
        "from sklearn.linear_model import Perceptron\n",
        "perceptron = Perceptron()\n",
        "perceptron.fit(train, target)\n",
        "acc_perceptron = round(perceptron.score(train, target) * 100, 2)\n",
        "acc_perceptron"
      ],
      "execution_count": 133,
      "outputs": [
        {
          "output_type": "execute_result",
          "data": {
            "text/plain": [
              "63.3"
            ]
          },
          "metadata": {
            "tags": []
          },
          "execution_count": 133
        }
      ]
    },
    {
      "cell_type": "code",
      "metadata": {
        "id": "WJ_gnhSuqhih",
        "colab_type": "code",
        "colab": {
          "base_uri": "https://localhost:8080/",
          "height": 34
        },
        "outputId": "114f30e1-41bd-43a0-ee78-e13d58bb430b"
      },
      "source": [
        "acc_test_perceptron = round(perceptron.score(test, target_test) * 100, 2)\n",
        "acc_test_perceptron"
      ],
      "execution_count": 134,
      "outputs": [
        {
          "output_type": "execute_result",
          "data": {
            "text/plain": [
              "62.59"
            ]
          },
          "metadata": {
            "tags": []
          },
          "execution_count": 134
        }
      ]
    },
    {
      "cell_type": "markdown",
      "metadata": {
        "id": "PvTCp5Blqhim",
        "colab_type": "text"
      },
      "source": [
        "### 5.7 Decision Tree Classifier <a class=\"anchor\" id=\"5.7\"></a>\n",
        "\n",
        "[Back to Table of Contents](#0.1)"
      ]
    },
    {
      "cell_type": "markdown",
      "metadata": {
        "id": "G3ao_Rs-qhim",
        "colab_type": "text"
      },
      "source": [
        "This model uses a **Decision Tree** as a predictive model which maps features (tree branches) to conclusions about the target value (tree leaves). Tree models where the target variable can take a finite set of values are called classification trees; in these tree structures, leaves represent class labels and branches represent conjunctions of features that lead to those class labels. Decision trees where the target variable can take continuous values (typically real numbers) are called regression trees. Reference [Wikipedia](https://en.wikipedia.org/wiki/Decision_tree_learning)."
      ]
    },
    {
      "cell_type": "code",
      "metadata": {
        "id": "bU50Ps7nqhin",
        "colab_type": "code",
        "colab": {
          "base_uri": "https://localhost:8080/",
          "height": 34
        },
        "outputId": "8dee3084-35b3-4433-a6ef-cc0e6ca752a7"
      },
      "source": [
        "# Decision Tree Classifier\n",
        "\n",
        "decision_tree = DecisionTreeClassifier()\n",
        "decision_tree.fit(train, target)\n",
        "acc_decision_tree = round(decision_tree.score(train, target) * 100, 2)\n",
        "acc_decision_tree"
      ],
      "execution_count": 135,
      "outputs": [
        {
          "output_type": "execute_result",
          "data": {
            "text/plain": [
              "99.98"
            ]
          },
          "metadata": {
            "tags": []
          },
          "execution_count": 135
        }
      ]
    },
    {
      "cell_type": "code",
      "metadata": {
        "id": "j02tyKgjqhiu",
        "colab_type": "code",
        "colab": {
          "base_uri": "https://localhost:8080/",
          "height": 34
        },
        "outputId": "a4be42ef-21fa-482a-8390-dc7ee31a2d50"
      },
      "source": [
        "acc_test_decision_tree = round(decision_tree.score(test, target_test) * 100, 2)\n",
        "acc_test_decision_tree"
      ],
      "execution_count": 136,
      "outputs": [
        {
          "output_type": "execute_result",
          "data": {
            "text/plain": [
              "63.86"
            ]
          },
          "metadata": {
            "tags": []
          },
          "execution_count": 136
        }
      ]
    },
    {
      "cell_type": "markdown",
      "metadata": {
        "id": "TCFWhulfqhiy",
        "colab_type": "text"
      },
      "source": [
        "### 5.8 Random Forests <a class=\"anchor\" id=\"5.8\"></a>\n",
        "\n",
        "[Back to Table of Contents](#0.1)"
      ]
    },
    {
      "cell_type": "markdown",
      "metadata": {
        "id": "w6Ov7Rnfqhiz",
        "colab_type": "text"
      },
      "source": [
        "**Random Forests** is one of the most popular model. Random forests or random decision forests are an ensemble learning method for classification, regression and other tasks, that operate by constructing a multitude of decision trees (n_estimators= [100, 300]) at training time and outputting the class that is the mode of the classes (classification) or mean prediction (regression) of the individual trees. Reference [Wikipedia](https://en.wikipedia.org/wiki/Random_forest)."
      ]
    },
    {
      "cell_type": "code",
      "metadata": {
        "id": "jrcuctLoqhiz",
        "colab_type": "code",
        "colab": {
          "base_uri": "https://localhost:8080/",
          "height": 34
        },
        "outputId": "86cd2d2e-0535-48c0-b29e-b0cb1cc87e17"
      },
      "source": [
        "# Random Forest\n",
        "\n",
        "random_forest = GridSearchCV(estimator=RandomForestClassifier(), param_grid={'n_estimators': [100, 300]}, cv=5).fit(train, target)\n",
        "random_forest.fit(train, target)\n",
        "acc_random_forest = round(random_forest.score(train, target) * 100, 2)\n",
        "print(acc_random_forest,random_forest.best_params_)"
      ],
      "execution_count": 137,
      "outputs": [
        {
          "output_type": "stream",
          "text": [
            "99.98 {'n_estimators': 300}\n"
          ],
          "name": "stdout"
        }
      ]
    },
    {
      "cell_type": "code",
      "metadata": {
        "id": "vgBLOXKhqhi3",
        "colab_type": "code",
        "colab": {
          "base_uri": "https://localhost:8080/",
          "height": 34
        },
        "outputId": "1d8911e4-6b3e-4a2e-e7ab-6341669a7c0c"
      },
      "source": [
        "acc_test_random_forest = round(random_forest.score(test, target_test) * 100, 2)\n",
        "acc_test_random_forest"
      ],
      "execution_count": 138,
      "outputs": [
        {
          "output_type": "execute_result",
          "data": {
            "text/plain": [
              "71.68"
            ]
          },
          "metadata": {
            "tags": []
          },
          "execution_count": 138
        }
      ]
    },
    {
      "cell_type": "markdown",
      "metadata": {
        "id": "WH43uXoLqhi9",
        "colab_type": "text"
      },
      "source": [
        "## 6. Models evaluation <a class=\"anchor\" id=\"6\"></a>\n",
        "\n",
        "[Back to Table of Contents](#0.1)"
      ]
    },
    {
      "cell_type": "markdown",
      "metadata": {
        "id": "sgI7bGnsqhi_",
        "colab_type": "text"
      },
      "source": [
        "We can now rank our evaluation of all the models to choose the best one for our problem."
      ]
    },
    {
      "cell_type": "code",
      "metadata": {
        "id": "M8lUF0ulqhjB",
        "colab_type": "code",
        "colab": {}
      },
      "source": [
        "\n",
        "models = pd.DataFrame({\n",
        "    'Model': ['Logistic Regression', 'Support Vector Machines', 'Linear SVC', 'k-Nearest Neighbors', 'Naive Bayes', \n",
        "              'Perceptron','Decision Tree Classifier', 'Random Forest',],\n",
        "    \n",
        "    'Score_train': [acc_log, acc_svc, acc_linear_svc, acc_knn, acc_gaussian, \n",
        "              acc_perceptron, acc_decision_tree, acc_random_forest,],\n",
        "    'Score_test': [acc_test_log, acc_test_svc, acc_test_linear_svc, acc_test_knn, acc_test_gaussian, \n",
        "              acc_test_perceptron, \n",
        "              acc_test_decision_tree, acc_test_random_forest]\n",
        "                    })"
      ],
      "execution_count": 139,
      "outputs": []
    },
    {
      "cell_type": "code",
      "metadata": {
        "id": "-u6fwpp9qhjF",
        "colab_type": "code",
        "colab": {
          "base_uri": "https://localhost:8080/",
          "height": 284
        },
        "outputId": "147c5aa2-2812-4c9a-c58a-7d323c1988dc"
      },
      "source": [
        "models.sort_values(by=['Score_train', 'Score_test'], ascending=False)"
      ],
      "execution_count": 140,
      "outputs": [
        {
          "output_type": "execute_result",
          "data": {
            "text/html": [
              "<div>\n",
              "<style scoped>\n",
              "    .dataframe tbody tr th:only-of-type {\n",
              "        vertical-align: middle;\n",
              "    }\n",
              "\n",
              "    .dataframe tbody tr th {\n",
              "        vertical-align: top;\n",
              "    }\n",
              "\n",
              "    .dataframe thead th {\n",
              "        text-align: right;\n",
              "    }\n",
              "</style>\n",
              "<table border=\"1\" class=\"dataframe\">\n",
              "  <thead>\n",
              "    <tr style=\"text-align: right;\">\n",
              "      <th></th>\n",
              "      <th>Model</th>\n",
              "      <th>Score_train</th>\n",
              "      <th>Score_test</th>\n",
              "    </tr>\n",
              "  </thead>\n",
              "  <tbody>\n",
              "    <tr>\n",
              "      <th>7</th>\n",
              "      <td>Random Forest</td>\n",
              "      <td>99.98</td>\n",
              "      <td>71.68</td>\n",
              "    </tr>\n",
              "    <tr>\n",
              "      <th>6</th>\n",
              "      <td>Decision Tree Classifier</td>\n",
              "      <td>99.98</td>\n",
              "      <td>63.86</td>\n",
              "    </tr>\n",
              "    <tr>\n",
              "      <th>3</th>\n",
              "      <td>k-Nearest Neighbors</td>\n",
              "      <td>81.52</td>\n",
              "      <td>66.87</td>\n",
              "    </tr>\n",
              "    <tr>\n",
              "      <th>2</th>\n",
              "      <td>Linear SVC</td>\n",
              "      <td>72.11</td>\n",
              "      <td>72.71</td>\n",
              "    </tr>\n",
              "    <tr>\n",
              "      <th>0</th>\n",
              "      <td>Logistic Regression</td>\n",
              "      <td>71.65</td>\n",
              "      <td>71.94</td>\n",
              "    </tr>\n",
              "    <tr>\n",
              "      <th>4</th>\n",
              "      <td>Naive Bayes</td>\n",
              "      <td>70.27</td>\n",
              "      <td>70.26</td>\n",
              "    </tr>\n",
              "    <tr>\n",
              "      <th>5</th>\n",
              "      <td>Perceptron</td>\n",
              "      <td>63.30</td>\n",
              "      <td>62.59</td>\n",
              "    </tr>\n",
              "    <tr>\n",
              "      <th>1</th>\n",
              "      <td>Support Vector Machines</td>\n",
              "      <td>60.22</td>\n",
              "      <td>59.41</td>\n",
              "    </tr>\n",
              "  </tbody>\n",
              "</table>\n",
              "</div>"
            ],
            "text/plain": [
              "                      Model  Score_train  Score_test\n",
              "7             Random Forest        99.98       71.68\n",
              "6  Decision Tree Classifier        99.98       63.86\n",
              "3       k-Nearest Neighbors        81.52       66.87\n",
              "2                Linear SVC        72.11       72.71\n",
              "0       Logistic Regression        71.65       71.94\n",
              "4               Naive Bayes        70.27       70.26\n",
              "5                Perceptron        63.30       62.59\n",
              "1   Support Vector Machines        60.22       59.41"
            ]
          },
          "metadata": {
            "tags": []
          },
          "execution_count": 140
        }
      ]
    },
    {
      "cell_type": "code",
      "metadata": {
        "id": "LE8GHE_TqhjK",
        "colab_type": "code",
        "colab": {
          "base_uri": "https://localhost:8080/",
          "height": 284
        },
        "outputId": "683279ec-652a-4093-8a8a-cfcd610c8e34"
      },
      "source": [
        "models.sort_values(by=['Score_test', 'Score_train'], ascending=False)"
      ],
      "execution_count": 141,
      "outputs": [
        {
          "output_type": "execute_result",
          "data": {
            "text/html": [
              "<div>\n",
              "<style scoped>\n",
              "    .dataframe tbody tr th:only-of-type {\n",
              "        vertical-align: middle;\n",
              "    }\n",
              "\n",
              "    .dataframe tbody tr th {\n",
              "        vertical-align: top;\n",
              "    }\n",
              "\n",
              "    .dataframe thead th {\n",
              "        text-align: right;\n",
              "    }\n",
              "</style>\n",
              "<table border=\"1\" class=\"dataframe\">\n",
              "  <thead>\n",
              "    <tr style=\"text-align: right;\">\n",
              "      <th></th>\n",
              "      <th>Model</th>\n",
              "      <th>Score_train</th>\n",
              "      <th>Score_test</th>\n",
              "    </tr>\n",
              "  </thead>\n",
              "  <tbody>\n",
              "    <tr>\n",
              "      <th>2</th>\n",
              "      <td>Linear SVC</td>\n",
              "      <td>72.11</td>\n",
              "      <td>72.71</td>\n",
              "    </tr>\n",
              "    <tr>\n",
              "      <th>0</th>\n",
              "      <td>Logistic Regression</td>\n",
              "      <td>71.65</td>\n",
              "      <td>71.94</td>\n",
              "    </tr>\n",
              "    <tr>\n",
              "      <th>7</th>\n",
              "      <td>Random Forest</td>\n",
              "      <td>99.98</td>\n",
              "      <td>71.68</td>\n",
              "    </tr>\n",
              "    <tr>\n",
              "      <th>4</th>\n",
              "      <td>Naive Bayes</td>\n",
              "      <td>70.27</td>\n",
              "      <td>70.26</td>\n",
              "    </tr>\n",
              "    <tr>\n",
              "      <th>3</th>\n",
              "      <td>k-Nearest Neighbors</td>\n",
              "      <td>81.52</td>\n",
              "      <td>66.87</td>\n",
              "    </tr>\n",
              "    <tr>\n",
              "      <th>6</th>\n",
              "      <td>Decision Tree Classifier</td>\n",
              "      <td>99.98</td>\n",
              "      <td>63.86</td>\n",
              "    </tr>\n",
              "    <tr>\n",
              "      <th>5</th>\n",
              "      <td>Perceptron</td>\n",
              "      <td>63.30</td>\n",
              "      <td>62.59</td>\n",
              "    </tr>\n",
              "    <tr>\n",
              "      <th>1</th>\n",
              "      <td>Support Vector Machines</td>\n",
              "      <td>60.22</td>\n",
              "      <td>59.41</td>\n",
              "    </tr>\n",
              "  </tbody>\n",
              "</table>\n",
              "</div>"
            ],
            "text/plain": [
              "                      Model  Score_train  Score_test\n",
              "2                Linear SVC        72.11       72.71\n",
              "0       Logistic Regression        71.65       71.94\n",
              "7             Random Forest        99.98       71.68\n",
              "4               Naive Bayes        70.27       70.26\n",
              "3       k-Nearest Neighbors        81.52       66.87\n",
              "6  Decision Tree Classifier        99.98       63.86\n",
              "5                Perceptron        63.30       62.59\n",
              "1   Support Vector Machines        60.22       59.41"
            ]
          },
          "metadata": {
            "tags": []
          },
          "execution_count": 141
        }
      ]
    },
    {
      "cell_type": "code",
      "metadata": {
        "id": "U1KPewEPqhjQ",
        "colab_type": "code",
        "colab": {
          "base_uri": "https://localhost:8080/",
          "height": 284
        },
        "outputId": "37d71fd6-3024-4877-9601-dfeefda24471"
      },
      "source": [
        "models['Score_diff'] = abs(models['Score_train'] - models['Score_test'])\n",
        "models.sort_values(by=['Score_diff'], ascending=True)"
      ],
      "execution_count": 142,
      "outputs": [
        {
          "output_type": "execute_result",
          "data": {
            "text/html": [
              "<div>\n",
              "<style scoped>\n",
              "    .dataframe tbody tr th:only-of-type {\n",
              "        vertical-align: middle;\n",
              "    }\n",
              "\n",
              "    .dataframe tbody tr th {\n",
              "        vertical-align: top;\n",
              "    }\n",
              "\n",
              "    .dataframe thead th {\n",
              "        text-align: right;\n",
              "    }\n",
              "</style>\n",
              "<table border=\"1\" class=\"dataframe\">\n",
              "  <thead>\n",
              "    <tr style=\"text-align: right;\">\n",
              "      <th></th>\n",
              "      <th>Model</th>\n",
              "      <th>Score_train</th>\n",
              "      <th>Score_test</th>\n",
              "      <th>Score_diff</th>\n",
              "    </tr>\n",
              "  </thead>\n",
              "  <tbody>\n",
              "    <tr>\n",
              "      <th>4</th>\n",
              "      <td>Naive Bayes</td>\n",
              "      <td>70.27</td>\n",
              "      <td>70.26</td>\n",
              "      <td>0.01</td>\n",
              "    </tr>\n",
              "    <tr>\n",
              "      <th>0</th>\n",
              "      <td>Logistic Regression</td>\n",
              "      <td>71.65</td>\n",
              "      <td>71.94</td>\n",
              "      <td>0.29</td>\n",
              "    </tr>\n",
              "    <tr>\n",
              "      <th>2</th>\n",
              "      <td>Linear SVC</td>\n",
              "      <td>72.11</td>\n",
              "      <td>72.71</td>\n",
              "      <td>0.60</td>\n",
              "    </tr>\n",
              "    <tr>\n",
              "      <th>5</th>\n",
              "      <td>Perceptron</td>\n",
              "      <td>63.30</td>\n",
              "      <td>62.59</td>\n",
              "      <td>0.71</td>\n",
              "    </tr>\n",
              "    <tr>\n",
              "      <th>1</th>\n",
              "      <td>Support Vector Machines</td>\n",
              "      <td>60.22</td>\n",
              "      <td>59.41</td>\n",
              "      <td>0.81</td>\n",
              "    </tr>\n",
              "    <tr>\n",
              "      <th>3</th>\n",
              "      <td>k-Nearest Neighbors</td>\n",
              "      <td>81.52</td>\n",
              "      <td>66.87</td>\n",
              "      <td>14.65</td>\n",
              "    </tr>\n",
              "    <tr>\n",
              "      <th>7</th>\n",
              "      <td>Random Forest</td>\n",
              "      <td>99.98</td>\n",
              "      <td>71.68</td>\n",
              "      <td>28.30</td>\n",
              "    </tr>\n",
              "    <tr>\n",
              "      <th>6</th>\n",
              "      <td>Decision Tree Classifier</td>\n",
              "      <td>99.98</td>\n",
              "      <td>63.86</td>\n",
              "      <td>36.12</td>\n",
              "    </tr>\n",
              "  </tbody>\n",
              "</table>\n",
              "</div>"
            ],
            "text/plain": [
              "                      Model  Score_train  Score_test  Score_diff\n",
              "4               Naive Bayes        70.27       70.26        0.01\n",
              "0       Logistic Regression        71.65       71.94        0.29\n",
              "2                Linear SVC        72.11       72.71        0.60\n",
              "5                Perceptron        63.30       62.59        0.71\n",
              "1   Support Vector Machines        60.22       59.41        0.81\n",
              "3       k-Nearest Neighbors        81.52       66.87       14.65\n",
              "7             Random Forest        99.98       71.68       28.30\n",
              "6  Decision Tree Classifier        99.98       63.86       36.12"
            ]
          },
          "metadata": {
            "tags": []
          },
          "execution_count": 142
        }
      ]
    },
    {
      "cell_type": "code",
      "metadata": {
        "id": "eCFz0SZLqhjk",
        "colab_type": "code",
        "colab": {
          "base_uri": "https://localhost:8080/",
          "height": 553
        },
        "outputId": "c0107684-3dc5-426c-a71a-edc00a4e39f5"
      },
      "source": [
        "# Plot\n",
        "plt.figure(figsize=[25,6])\n",
        "xx = models['Model']\n",
        "plt.tick_params(labelsize=14)\n",
        "plt.plot(xx, models['Score_train'], label = 'Score_train')\n",
        "plt.plot(xx, models['Score_test'], label = 'Score_test')\n",
        "plt.legend()\n",
        "plt.title('Score of 20 popular models for train and test datasets')\n",
        "plt.xlabel('Models')\n",
        "plt.ylabel('Score, %')\n",
        "plt.xticks(xx, rotation='vertical')\n",
        "plt.savefig('graph.png')\n",
        "plt.show()"
      ],
      "execution_count": 143,
      "outputs": [
        {
          "output_type": "display_data",
          "data": {
            "image/png": "[encoded data removed]",
            "text/plain": [
              "<Figure size 1800x432 with 1 Axes>"
            ]
          },
          "metadata": {
            "tags": [],
            "needs_background": "light"
          }
        }
      ]
    }
  ]
}
